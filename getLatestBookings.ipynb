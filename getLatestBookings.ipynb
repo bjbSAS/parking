{
 "cells": [
  {
   "cell_type": "code",
   "execution_count": 1,
   "metadata": {
    "collapsed": true
   },
   "outputs": [],
   "source": [
    "from requests_ntlm import HttpNtlmAuth\n",
    "import requests\n",
    "import json\n",
    "import csv\n",
    "import sys\n",
    "import netrc\n",
    "from datetime import datetime"
   ]
  },
  {
   "cell_type": "code",
   "execution_count": 2,
   "metadata": {
    "collapsed": false
   },
   "outputs": [],
   "source": [
    "# get user / password\n",
    "host = 'torvmpiis8.na.sas.com'\n",
    "parking_url = 'http://torvmpiis8.na.sas.com/ParkingApp/BookingCalendar/GetBooking'\n",
    "# Read from the .netrc file in your home directory\n",
    "secrets = netrc.netrc()\n",
    "dusername, account, password = secrets.authenticators(host)\n",
    "#print (\"\\\"\" + dusername + \"\\\" \\\"\" + password + \"\\\"\")\n",
    "\n",
    "try:\n",
    "        bookings = requests.get(parking_url,auth=HttpNtlmAuth(dusername,password))\n",
    "        bookings.raise_for_status()\n",
    "except requests.exceptions.HTTPError as err:\n",
    "        print (\"failed to make server connection[parking URL]: \" + str(err))\n",
    "#         sys.exit(1)\n",
    "\n",
    "        # parse to json and write to csv\n",
    "data = json.loads(bookings.text)\n",
    "#spots = data[\"BList\"]\n"
   ]
  },
  {
   "cell_type": "code",
   "execution_count": 47,
   "metadata": {
    "collapsed": false
   },
   "outputs": [
    {
     "data": {
      "text/html": [
       "<div>\n",
       "<table border=\"1\" class=\"dataframe\">\n",
       "  <thead>\n",
       "    <tr style=\"text-align: right;\">\n",
       "      <th></th>\n",
       "      <th>date</th>\n",
       "      <th>spot</th>\n",
       "    </tr>\n",
       "  </thead>\n",
       "  <tbody>\n",
       "    <tr>\n",
       "      <th>81</th>\n",
       "      <td>2017-06-05</td>\n",
       "      <td>1 I.Prabucki (DAY       )</td>\n",
       "    </tr>\n",
       "    <tr>\n",
       "      <th>82</th>\n",
       "      <td>2017-06-06</td>\n",
       "      <td>1 I.Prabucki (DAY       )</td>\n",
       "    </tr>\n",
       "    <tr>\n",
       "      <th>83</th>\n",
       "      <td>2017-06-07</td>\n",
       "      <td>1 I.Prabucki (DAY       )</td>\n",
       "    </tr>\n",
       "    <tr>\n",
       "      <th>84</th>\n",
       "      <td>2017-06-08</td>\n",
       "      <td>1 I.Prabucki (DAY       )</td>\n",
       "    </tr>\n",
       "    <tr>\n",
       "      <th>85</th>\n",
       "      <td>2017-06-09</td>\n",
       "      <td>1 M.Donadio (DAY       )</td>\n",
       "    </tr>\n",
       "    <tr>\n",
       "      <th>390</th>\n",
       "      <td>2017-06-02</td>\n",
       "      <td>6 C.Miceli (DAY       )</td>\n",
       "    </tr>\n",
       "    <tr>\n",
       "      <th>970</th>\n",
       "      <td>2017-06-02</td>\n",
       "      <td>24 S.Magill (AM)</td>\n",
       "    </tr>\n",
       "    <tr>\n",
       "      <th>971</th>\n",
       "      <td>2017-06-02</td>\n",
       "      <td>24 S.Magill (PM)</td>\n",
       "    </tr>\n",
       "    <tr>\n",
       "      <th>972</th>\n",
       "      <td>2017-06-12</td>\n",
       "      <td>24 S.Magill (DAY       )</td>\n",
       "    </tr>\n",
       "    <tr>\n",
       "      <th>1389</th>\n",
       "      <td>2017-06-06</td>\n",
       "      <td>33 C.Miceli (DAY       )</td>\n",
       "    </tr>\n",
       "    <tr>\n",
       "      <th>1390</th>\n",
       "      <td>2017-06-07</td>\n",
       "      <td>33 C.Miceli (DAY       )</td>\n",
       "    </tr>\n",
       "    <tr>\n",
       "      <th>1391</th>\n",
       "      <td>2017-06-08</td>\n",
       "      <td>33 C.Miceli (DAY       )</td>\n",
       "    </tr>\n",
       "    <tr>\n",
       "      <th>1392</th>\n",
       "      <td>2017-06-09</td>\n",
       "      <td>33 C.Miceli (DAY       )</td>\n",
       "    </tr>\n",
       "    <tr>\n",
       "      <th>1393</th>\n",
       "      <td>2017-06-14</td>\n",
       "      <td>33 C.Miceli (DAY       )</td>\n",
       "    </tr>\n",
       "  </tbody>\n",
       "</table>\n",
       "</div>"
      ],
      "text/plain": [
       "           date                       spot\n",
       "81   2017-06-05  1 I.Prabucki (DAY       )\n",
       "82   2017-06-06  1 I.Prabucki (DAY       )\n",
       "83   2017-06-07  1 I.Prabucki (DAY       )\n",
       "84   2017-06-08  1 I.Prabucki (DAY       )\n",
       "85   2017-06-09   1 M.Donadio (DAY       )\n",
       "390  2017-06-02    6 C.Miceli (DAY       )\n",
       "970  2017-06-02           24 S.Magill (AM)\n",
       "971  2017-06-02           24 S.Magill (PM)\n",
       "972  2017-06-12   24 S.Magill (DAY       )\n",
       "1389 2017-06-06   33 C.Miceli (DAY       )\n",
       "1390 2017-06-07   33 C.Miceli (DAY       )\n",
       "1391 2017-06-08   33 C.Miceli (DAY       )\n",
       "1392 2017-06-09   33 C.Miceli (DAY       )\n",
       "1393 2017-06-14   33 C.Miceli (DAY       )"
      ]
     },
     "execution_count": 47,
     "metadata": {},
     "output_type": "execute_result"
    }
   ],
   "source": [
    "### import pandas as pd\n",
    "df = pd.read_json(json.dumps(data[\"BList\"]))\n",
    "df = df[df['date'] >= pd.to_datetime('today')]\n",
    "df.drop(['bookOrPost','period'],axis=1,inplace=True)\n",
    "bookings_str = df.transpose().to_json()\n",
    "df.head(25)\n",
    "print(bookings_str)"
   ]
  },
  {
   "cell_type": "code",
   "execution_count": 52,
   "metadata": {
    "collapsed": false
   },
   "outputs": [
    {
     "name": "stdout",
     "output_type": "stream",
     "text": [
      "{390: {u'date': Timestamp('2017-06-02 00:00:00'), u'spot': u'6 C.Miceli (DAY       )'}, 1393: {u'date': Timestamp('2017-06-14 00:00:00'), u'spot': u'33 C.Miceli (DAY       )'}, 970: {u'date': Timestamp('2017-06-02 00:00:00'), u'spot': u'24 S.Magill (AM)'}, 971: {u'date': Timestamp('2017-06-02 00:00:00'), u'spot': u'24 S.Magill (PM)'}, 972: {u'date': Timestamp('2017-06-12 00:00:00'), u'spot': u'24 S.Magill (DAY       )'}, 1389: {u'date': Timestamp('2017-06-06 00:00:00'), u'spot': u'33 C.Miceli (DAY       )'}, 1390: {u'date': Timestamp('2017-06-07 00:00:00'), u'spot': u'33 C.Miceli (DAY       )'}, 1391: {u'date': Timestamp('2017-06-08 00:00:00'), u'spot': u'33 C.Miceli (DAY       )'}, 1392: {u'date': Timestamp('2017-06-09 00:00:00'), u'spot': u'33 C.Miceli (DAY       )'}, 81: {u'date': Timestamp('2017-06-05 00:00:00'), u'spot': u'1 I.Prabucki (DAY       )'}, 82: {u'date': Timestamp('2017-06-06 00:00:00'), u'spot': u'1 I.Prabucki (DAY       )'}, 83: {u'date': Timestamp('2017-06-07 00:00:00'), u'spot': u'1 I.Prabucki (DAY       )'}, 84: {u'date': Timestamp('2017-06-08 00:00:00'), u'spot': u'1 I.Prabucki (DAY       )'}, 85: {u'date': Timestamp('2017-06-09 00:00:00'), u'spot': u'1 M.Donadio (DAY       )'}}\n"
     ]
    }
   ],
   "source": [
    "bookings_str = df.transpose().to_dict()\n",
    "print(bookings_str)"
   ]
  }
 ],
 "metadata": {
  "kernelspec": {
   "display_name": "Python 2",
   "language": "python",
   "name": "python2"
  },
  "language_info": {
   "codemirror_mode": {
    "name": "ipython",
    "version": 2
   },
   "file_extension": ".py",
   "mimetype": "text/x-python",
   "name": "python",
   "nbconvert_exporter": "python",
   "pygments_lexer": "ipython2",
   "version": "2.7.13"
  }
 },
 "nbformat": 4,
 "nbformat_minor": 2
}

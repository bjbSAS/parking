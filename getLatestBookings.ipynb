{
 "cells": [
  {
   "cell_type": "code",
   "execution_count": null,
   "metadata": {
    "collapsed": true
   },
   "outputs": [],
   "source": [
    "from requests_ntlm import HttpNtlmAuth\n",
    "import requests\n",
    "import json\n",
    "import csv\n",
    "import sys\n",
    "import netrc\n",
    "from datetime import datetime"
   ]
  },
  {
   "cell_type": "code",
   "execution_count": null,
   "metadata": {
    "collapsed": false
   },
   "outputs": [],
   "source": [
    "# get user / password\n",
    "host = '<hostname>'\n",
    "parking_url = '<hostname>/ParkingApp/BookingCalendar/GetBooking'\n",
    "# Read from the .netrc file in your home directory\n",
    "secrets = netrc.netrc()\n",
    "dusername, account, password = secrets.authenticators(host)\n",
    "#print (\"\\\"\" + dusername + \"\\\" \\\"\" + password + \"\\\"\")\n",
    "\n",
    "try:\n",
    "        bookings = requests.get(parking_url,auth=HttpNtlmAuth(dusername,password))\n",
    "        bookings.raise_for_status()\n",
    "except requests.exceptions.HTTPError as err:\n",
    "        print (\"failed to make server connection[parking URL]: \" + str(err))\n",
    "#         sys.exit(1)\n",
    "\n",
    "        # parse to json and write to csv\n",
    "data = json.loads(bookings.text)\n",
    "#spots = data[\"BList\"]\n"
   ]
  },
  {
   "cell_type": "code",
   "execution_count": null,
   "metadata": {
    "collapsed": false
   },
   "outputs": [],
   "source": [
    "### import pandas as pd\n",
    "df = pd.read_json(json.dumps(data[\"BList\"]))\n",
    "df = df[df['date'] >= pd.to_datetime('today')]\n",
    "df.drop(['bookOrPost','period'],axis=1,inplace=True)\n",
    "bookings_str = df.transpose().to_json()\n",
    "df.head(25)\n",
    "print(bookings_str)"
   ]
  },
  {
   "cell_type": "code",
   "execution_count": null,
   "metadata": {
    "collapsed": false
   },
   "outputs": [],
   "source": [
    "bookings_str = df.transpose().to_dict()\n",
    "print(bookings_str)"
   ]
  }
 ],
 "metadata": {
  "kernelspec": {
   "display_name": "Python 2",
   "language": "python",
   "name": "python2"
  },
  "language_info": {
   "codemirror_mode": {
    "name": "ipython",
    "version": 2
   },
   "file_extension": ".py",
   "mimetype": "text/x-python",
   "name": "python",
   "nbconvert_exporter": "python",
   "pygments_lexer": "ipython2",
   "version": "2.7.13"
  }
 },
 "nbformat": 4,
 "nbformat_minor": 2
}

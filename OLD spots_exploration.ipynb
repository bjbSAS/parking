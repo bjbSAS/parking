{
 "cells": [
  {
   "cell_type": "code",
   "execution_count": 35,
   "metadata": {
    "collapsed": true
   },
   "outputs": [],
   "source": [
    "import requests\n",
    "from requests_ntlm import HttpNtlmAuth\n",
    "import json\n",
    "import csv\n",
    "import netrc\n",
    "from datetime import datetime"
   ]
  },
  {
   "cell_type": "markdown",
   "metadata": {},
   "source": [
    "## First go get all the booking records and dump it to CSV from json"
   ]
  },
  {
   "cell_type": "code",
   "execution_count": 36,
   "metadata": {
    "collapsed": true
   },
   "outputs": [],
   "source": [
    "# get user / password\n",
    "host = 'torvmpiis8'\n",
    "parking_url = 'http://torvmpiis8.na.sas.com/ParkingApp/BookingCalendar/GetBooking'\n",
    "# Read from the .netrc file in your home directory\n",
    "secrets = netrc.netrc()\n",
    "dusername, account, password = secrets.authenticators(host)\n",
    "#print (\"\\\"\" + dusername + \"\\\" \\\"\" + password + \"\\\"\")\n",
    "\n",
    "try:\n",
    "        bookings = requests.get(parking_url,auth=HttpNtlmAuth(dusername,password))\n",
    "        bookings.raise_for_status()\n",
    "except requests.exceptions.HTTPError as err:\n",
    "        print (\"failed to make server connection[parking URL]: \" + str(err))\n",
    "        sys.exit(1)\n",
    "\n",
    "        # parse to json and write to csv\n",
    "data = json.loads(bookings.text)\n",
    "spots = data[\"BList\"]\n",
    "\n",
    "with open('spots.csv', 'w') as csvfile:\n",
    "        fieldnames = ['pspot','name','date','bookOrPost','period','spot']\n",
    "        writer = csv.DictWriter(csvfile, fieldnames=fieldnames, lineterminator='\\n')\n",
    "        writer.writeheader()\n",
    "        for spot in spots:\n",
    "                spot['pspot'] = spot['spot'].split(' ')[0]\n",
    "                spot['name'] = spot['spot'].split(' ')[1]\n",
    "                spot['period'] = (spot['spot'].split('(')[1]).split(' ')[0]\n",
    "                writer.writerow(spot)"
   ]
  },
  {
   "cell_type": "code",
   "execution_count": 37,
   "metadata": {
    "collapsed": true
   },
   "outputs": [],
   "source": [
    "import pandas as pd\n",
    "import numpy as np\n",
    "from matplotlib import pyplot as plt\n",
    "%matplotlib inline"
   ]
  },
  {
   "cell_type": "markdown",
   "metadata": {},
   "source": [
    "## Start our exploration"
   ]
  },
  {
   "cell_type": "code",
   "execution_count": 38,
   "metadata": {
    "collapsed": false
   },
   "outputs": [
    {
     "data": {
      "text/html": [
       "<div>\n",
       "<table border=\"1\" class=\"dataframe\">\n",
       "  <thead>\n",
       "    <tr style=\"text-align: right;\">\n",
       "      <th></th>\n",
       "      <th>pspot</th>\n",
       "      <th>name</th>\n",
       "      <th>date</th>\n",
       "      <th>bookOrPost</th>\n",
       "      <th>period</th>\n",
       "      <th>spot</th>\n",
       "    </tr>\n",
       "  </thead>\n",
       "  <tbody>\n",
       "    <tr>\n",
       "      <th>1822</th>\n",
       "      <td>62</td>\n",
       "      <td>M.Faiyaz</td>\n",
       "      <td>2017-04-12</td>\n",
       "      <td>B</td>\n",
       "      <td>DAY</td>\n",
       "      <td>62 M.Faiyaz Nakhuda (DAY       )</td>\n",
       "    </tr>\n",
       "    <tr>\n",
       "      <th>1823</th>\n",
       "      <td>62</td>\n",
       "      <td>M.Faiyaz</td>\n",
       "      <td>2017-04-13</td>\n",
       "      <td>B</td>\n",
       "      <td>DAY</td>\n",
       "      <td>62 M.Faiyaz Nakhuda (DAY       )</td>\n",
       "    </tr>\n",
       "    <tr>\n",
       "      <th>1824</th>\n",
       "      <td>62</td>\n",
       "      <td>J.Gunasekaran</td>\n",
       "      <td>2017-04-21</td>\n",
       "      <td>B</td>\n",
       "      <td>DAY</td>\n",
       "      <td>62 J.Gunasekaran (DAY       )</td>\n",
       "    </tr>\n",
       "  </tbody>\n",
       "</table>\n",
       "</div>"
      ],
      "text/plain": [
       "      pspot           name        date bookOrPost period  \\\n",
       "1822     62       M.Faiyaz  2017-04-12          B    DAY   \n",
       "1823     62       M.Faiyaz  2017-04-13          B    DAY   \n",
       "1824     62  J.Gunasekaran  2017-04-21          B    DAY   \n",
       "\n",
       "                                  spot  \n",
       "1822  62 M.Faiyaz Nakhuda (DAY       )  \n",
       "1823  62 M.Faiyaz Nakhuda (DAY       )  \n",
       "1824     62 J.Gunasekaran (DAY       )  "
      ]
     },
     "execution_count": 38,
     "metadata": {},
     "output_type": "execute_result"
    }
   ],
   "source": [
    "## read in the file we just wrote\n",
    "df = pd.read_csv(\"spots.csv\")\n",
    "df.tail(3)"
   ]
  },
  {
   "cell_type": "code",
   "execution_count": 39,
   "metadata": {
    "collapsed": false
   },
   "outputs": [],
   "source": [
    "# do this later\n",
    "\n",
    "## add some features\n",
    "\n",
    "df['datetime'] = pd.to_datetime(df['date'], format='%Y-%m-%d')\n",
    "df['t_weekday'] = df['datetime'].dt.weekday\n",
    "df['t_day'] = df['datetime'].dt.day\n",
    "df['t_month'] = df['datetime'].dt.month\n",
    "df['t_year'] = df['datetime'].dt.year\n",
    "df['t_weekofyear'] = df['datetime'].dt.weekofyear\n",
    "df['t_weekday_name'] = df['datetime'].dt.weekday_name\n",
    "df.drop(['period','spot','date'],axis=1,inplace=True)  ## this is redundant since we've already extracted pspot, name.\n",
    "# df.head(3)"
   ]
  },
  {
   "cell_type": "code",
   "execution_count": 40,
   "metadata": {
    "collapsed": false
   },
   "outputs": [],
   "source": [
    "## write it out in case we want to reuse it later.\n",
    "df.to_csv(\"spots_augmented.csv\")"
   ]
  },
  {
   "cell_type": "markdown",
   "metadata": {},
   "source": [
    "### Build a structure that we can plot later comparing first 6 months to last 6 months"
   ]
  },
  {
   "cell_type": "code",
   "execution_count": 41,
   "metadata": {
    "collapsed": false
   },
   "outputs": [],
   "source": [
    "compare = pd.DataFrame.from_items([('beneficiaries', [0, 0,0,0]), ('spots_booked', [0, 0,0,0])], \n",
    "                        orient='index', columns=['First6', 'Last6','First3', 'Last3'])"
   ]
  },
  {
   "cell_type": "code",
   "execution_count": 42,
   "metadata": {
    "collapsed": false,
    "scrolled": true
   },
   "outputs": [
    {
     "data": {
      "image/png": "[encoded data removed]",
      "text/plain": [
       "<matplotlib.figure.Figure at 0x7f6f6aaf3590>"
      ]
     },
     "metadata": {},
     "output_type": "display_data"
    }
   ],
   "source": [
    "## plot all time bookings per user\n",
    "tbl_forplot  = pd.Series(df['name'].value_counts())\n",
    "freq= tbl_forplot.plot(kind  = 'bar', title = 'Number of bookings per user (all time)', color = 'c', figsize = (16, 6))\n",
    "freq.set_ylabel('# bookings')\n",
    "freq.set_xlabel('User Name');"
   ]
  },
  {
   "cell_type": "code",
   "execution_count": 43,
   "metadata": {
    "collapsed": false
   },
   "outputs": [
    {
     "data": {
      "image/png": "[encoded data removed]",
      "text/plain": [
       "<matplotlib.figure.Figure at 0x7f6f6a8534d0>"
      ]
     },
     "metadata": {},
     "output_type": "display_data"
    }
   ],
   "source": [
    "## compare first 6 months. Nice distribution of users booking parking spots\n",
    "tbl_forplot  = pd.Series(df[(df['datetime'] > '2015-8-24') & (df['datetime'] <= '2016-2-24')]['name'].value_counts())\n",
    "freq= tbl_forplot.plot(kind  = 'bar', title = 'Number of bookings per user (First 6 months)', color = 'c', figsize = (16, 6))\n",
    "freq.set_ylabel('# bookings')\n",
    "freq.set_xlabel('User');\n",
    "## compare for later\n",
    "compare['First6']['beneficiaries'] = tbl_forplot.count()\n",
    "compare['First6']['spots_booked'] = tbl_forplot.sum()"
   ]
  },
  {
   "cell_type": "code",
   "execution_count": 44,
   "metadata": {
    "collapsed": false
   },
   "outputs": [
    {
     "data": {
      "image/png": "[encoded data removed]",
      "text/plain": [
       "<matplotlib.figure.Figure at 0x7f6f6ad70210>"
      ]
     },
     "metadata": {},
     "output_type": "display_data"
    }
   ],
   "source": [
    "## most recent 6 months\n",
    "tbl_forplot  = pd.Series(df[(df['datetime'] > '2016-10-10') & (df['datetime'] <= '2017-4-10')]['name'].value_counts())\n",
    "freq = tbl_forplot.plot(kind  = 'bar', title = 'Number of bookings per user (Recent 6 months)', color = 'c', figsize = (16, 6))\n",
    "freq.set_ylabel('# bookings')\n",
    "freq.set_xlabel('User');\n",
    "## compare for later\n",
    "## compare for later\n",
    "compare['Last6']['beneficiaries'] = tbl_forplot.count()\n",
    "compare['Last6']['spots_booked'] = tbl_forplot.sum()"
   ]
  },
  {
   "cell_type": "code",
   "execution_count": 45,
   "metadata": {
    "collapsed": false
   },
   "outputs": [
    {
     "data": {
      "image/png": "[encoded data removed]",
      "text/plain": [
       "<matplotlib.figure.Figure at 0x7f6f61aea1d0>"
      ]
     },
     "metadata": {},
     "output_type": "display_data"
    }
   ],
   "source": [
    "## compare first 3 months. Nice distribution of users booking parking spots\n",
    "tbl_forplot  = pd.Series(df[(df['datetime'] > '2015-8-24') & (df['datetime'] <= '2015-11-24')]['name'].value_counts())\n",
    "freq= tbl_forplot.plot(kind  = 'bar', title = 'Number of bookings per user (First 3 months)', color = 'c', figsize = (16, 6))\n",
    "freq.set_ylabel('# bookings')\n",
    "freq.set_xlabel('User');\n",
    "## compare for later\n",
    "compare['First3']['beneficiaries'] = tbl_forplot.count()\n",
    "compare['First3']['spots_booked'] = tbl_forplot.sum()"
   ]
  },
  {
   "cell_type": "code",
   "execution_count": 46,
   "metadata": {
    "collapsed": false
   },
   "outputs": [
    {
     "data": {
      "image/png": "[encoded data removed]",
      "text/plain": [
       "<matplotlib.figure.Figure at 0x7f6f61b5d510>"
      ]
     },
     "metadata": {},
     "output_type": "display_data"
    }
   ],
   "source": [
    "## most recent 3 months\n",
    "tbl_forplot  = pd.Series(df[(df['datetime'] > '2017-2-5') & (df['datetime'] <= '2017-5-4')]['name'].value_counts())\n",
    "freq = tbl_forplot.plot(kind  = 'bar', title = 'Number of bookings per user (Recent 3 months)', color = 'c', figsize = (16, 6))\n",
    "freq.set_ylabel('# bookings')\n",
    "freq.set_xlabel('User');\n",
    "## compare for later\n",
    "## compare for later\n",
    "compare['Last3']['beneficiaries'] = tbl_forplot.count()\n",
    "compare['Last3']['spots_booked'] = tbl_forplot.sum()"
   ]
  },
  {
   "cell_type": "code",
   "execution_count": 47,
   "metadata": {
    "collapsed": false
   },
   "outputs": [
    {
     "data": {
      "text/plain": [
       "<matplotlib.lines.Line2D at 0x7f6f615de650>"
      ]
     },
     "execution_count": 47,
     "metadata": {},
     "output_type": "execute_result"
    },
    {
     "data": {
      "image/png": "[encoded data removed]",
      "text/plain": [
       "<matplotlib.figure.Figure at 0x7f6f6130f2d0>"
      ]
     },
     "metadata": {},
     "output_type": "display_data"
    }
   ],
   "source": [
    "## histogram\n",
    "tbl_forplot  = pd.Series(df['name'].value_counts())\n",
    "freq= tbl_forplot.plot.hist(title = 'Y number of users with X bookings', bins=50, color = 'c', figsize = (16, 6))\n",
    "freq.set_ylabel('# Users')\n",
    "freq.set_xlabel('Individual user\\'s booking counts');\n",
    "freq.axvline(tbl_forplot.mean(), color='b', linestyle='dashed', linewidth=2)\n",
    "freq.axvline(tbl_forplot.mean()+tbl_forplot.std(), color='g', linestyle='dashed', linewidth=2) # mean plus 1 std_Dev\n",
    "freq.axvline(tbl_forplot.mean()+(tbl_forplot.std()*3.8), color='r', linestyle='dashed', linewidth=2)   # mean plus 3.8 std_Dev"
   ]
  },
  {
   "cell_type": "markdown",
   "metadata": {},
   "source": [
    "## Users with very high booking counts"
   ]
  },
  {
   "cell_type": "code",
   "execution_count": 17,
   "metadata": {
    "collapsed": false
   },
   "outputs": [
    {
     "data": {
      "text/html": [
       "<div>\n",
       "<table border=\"1\" class=\"dataframe\">\n",
       "  <thead>\n",
       "    <tr style=\"text-align: right;\">\n",
       "      <th></th>\n",
       "      <th>pspot</th>\n",
       "      <th>name</th>\n",
       "      <th>bookOrPost</th>\n",
       "      <th>datetime</th>\n",
       "      <th>t_weekday</th>\n",
       "      <th>t_day</th>\n",
       "      <th>t_month</th>\n",
       "      <th>t_year</th>\n",
       "      <th>t_weekofyear</th>\n",
       "      <th>t_weekday_name</th>\n",
       "    </tr>\n",
       "  </thead>\n",
       "  <tbody>\n",
       "    <tr>\n",
       "      <th>0</th>\n",
       "      <td>1</td>\n",
       "      <td>C.Carito</td>\n",
       "      <td>B</td>\n",
       "      <td>2015-08-24</td>\n",
       "      <td>0</td>\n",
       "      <td>24</td>\n",
       "      <td>8</td>\n",
       "      <td>2015</td>\n",
       "      <td>35</td>\n",
       "      <td>Monday</td>\n",
       "    </tr>\n",
       "    <tr>\n",
       "      <th>954</th>\n",
       "      <td>25</td>\n",
       "      <td>C.Carito</td>\n",
       "      <td>B</td>\n",
       "      <td>2015-08-25</td>\n",
       "      <td>1</td>\n",
       "      <td>25</td>\n",
       "      <td>8</td>\n",
       "      <td>2015</td>\n",
       "      <td>35</td>\n",
       "      <td>Tuesday</td>\n",
       "    </tr>\n",
       "    <tr>\n",
       "      <th>1627</th>\n",
       "      <td>54</td>\n",
       "      <td>C.Carito</td>\n",
       "      <td>B</td>\n",
       "      <td>2015-08-26</td>\n",
       "      <td>2</td>\n",
       "      <td>26</td>\n",
       "      <td>8</td>\n",
       "      <td>2015</td>\n",
       "      <td>35</td>\n",
       "      <td>Wednesday</td>\n",
       "    </tr>\n",
       "  </tbody>\n",
       "</table>\n",
       "</div>"
      ],
      "text/plain": [
       "      pspot      name bookOrPost   datetime  t_weekday  t_day  t_month  \\\n",
       "0         1  C.Carito          B 2015-08-24          0     24        8   \n",
       "954      25  C.Carito          B 2015-08-25          1     25        8   \n",
       "1627     54  C.Carito          B 2015-08-26          2     26        8   \n",
       "\n",
       "      t_year  t_weekofyear t_weekday_name  \n",
       "0       2015            35         Monday  \n",
       "954     2015            35        Tuesday  \n",
       "1627    2015            35      Wednesday  "
      ]
     },
     "execution_count": 17,
     "metadata": {},
     "output_type": "execute_result"
    }
   ],
   "source": [
    "users = df[(df['name'] == 'C.Carito')].sort_values(by='datetime')\n",
    "users.head(3)"
   ]
  },
  {
   "cell_type": "code",
   "execution_count": 18,
   "metadata": {
    "collapsed": false
   },
   "outputs": [
    {
     "data": {
      "text/html": [
       "<div>\n",
       "<table border=\"1\" class=\"dataframe\">\n",
       "  <thead>\n",
       "    <tr style=\"text-align: right;\">\n",
       "      <th></th>\n",
       "      <th>pspot</th>\n",
       "      <th>name</th>\n",
       "      <th>bookOrPost</th>\n",
       "      <th>datetime</th>\n",
       "      <th>t_weekday</th>\n",
       "      <th>t_day</th>\n",
       "      <th>t_month</th>\n",
       "      <th>t_year</th>\n",
       "      <th>t_weekofyear</th>\n",
       "      <th>t_weekday_name</th>\n",
       "    </tr>\n",
       "  </thead>\n",
       "  <tbody>\n",
       "    <tr>\n",
       "      <th>82</th>\n",
       "      <td>2</td>\n",
       "      <td>M.Faiyaz</td>\n",
       "      <td>B</td>\n",
       "      <td>2015-08-25</td>\n",
       "      <td>1</td>\n",
       "      <td>25</td>\n",
       "      <td>8</td>\n",
       "      <td>2015</td>\n",
       "      <td>35</td>\n",
       "      <td>Tuesday</td>\n",
       "    </tr>\n",
       "    <tr>\n",
       "      <th>390</th>\n",
       "      <td>8</td>\n",
       "      <td>M.Faiyaz</td>\n",
       "      <td>B</td>\n",
       "      <td>2015-08-26</td>\n",
       "      <td>2</td>\n",
       "      <td>26</td>\n",
       "      <td>8</td>\n",
       "      <td>2015</td>\n",
       "      <td>35</td>\n",
       "      <td>Wednesday</td>\n",
       "    </tr>\n",
       "    <tr>\n",
       "      <th>391</th>\n",
       "      <td>8</td>\n",
       "      <td>M.Faiyaz</td>\n",
       "      <td>B</td>\n",
       "      <td>2015-08-27</td>\n",
       "      <td>3</td>\n",
       "      <td>27</td>\n",
       "      <td>8</td>\n",
       "      <td>2015</td>\n",
       "      <td>35</td>\n",
       "      <td>Thursday</td>\n",
       "    </tr>\n",
       "  </tbody>\n",
       "</table>\n",
       "</div>"
      ],
      "text/plain": [
       "     pspot      name bookOrPost   datetime  t_weekday  t_day  t_month  t_year  \\\n",
       "82       2  M.Faiyaz          B 2015-08-25          1     25        8    2015   \n",
       "390      8  M.Faiyaz          B 2015-08-26          2     26        8    2015   \n",
       "391      8  M.Faiyaz          B 2015-08-27          3     27        8    2015   \n",
       "\n",
       "     t_weekofyear t_weekday_name  \n",
       "82             35        Tuesday  \n",
       "390            35      Wednesday  \n",
       "391            35       Thursday  "
      ]
     },
     "execution_count": 18,
     "metadata": {},
     "output_type": "execute_result"
    }
   ],
   "source": [
    "users = df[(df['name'] == 'M.Faiyaz')].sort_values(by='datetime')\n",
    "users.head(3)"
   ]
  },
  {
   "cell_type": "code",
   "execution_count": 48,
   "metadata": {
    "collapsed": false,
    "scrolled": false
   },
   "outputs": [
    {
     "data": {
      "image/png": "[encoded data removed]",
      "text/plain": [
       "<matplotlib.figure.Figure at 0x7f6f6181ff50>"
      ]
     },
     "metadata": {},
     "output_type": "display_data"
    }
   ],
   "source": [
    "## how does the total number of bookings look over time?\n",
    "tbl_forplot  = pd.Series(df.groupby(['t_year','t_month']).size())\n",
    "rolling_avg = tbl_forplot.rolling(win_type='boxcar',center=False,window=3,axis=0).mean()\n",
    "plt.figure()\n",
    "tbl_forplot_plot = tbl_forplot.plot(kind  = 'bar', \n",
    "                                    title = 'Number of bookings by month since inception', \n",
    "                                    color = 'c', figsize = (16, 6))\n",
    "tbl_forplot_plot.set_ylabel('# bookings')\n",
    "tbl_forplot_plot.set_xlabel('Month');\n",
    "rolling_avg_plot = rolling_avg.plot()"
   ]
  },
  {
   "cell_type": "code",
   "execution_count": 49,
   "metadata": {
    "collapsed": false
   },
   "outputs": [
    {
     "data": {
      "text/html": [
       "<div>\n",
       "<table border=\"1\" class=\"dataframe\">\n",
       "  <thead>\n",
       "    <tr style=\"text-align: right;\">\n",
       "      <th></th>\n",
       "      <th>SpotId</th>\n",
       "      <th>Name</th>\n",
       "    </tr>\n",
       "  </thead>\n",
       "  <tbody>\n",
       "    <tr>\n",
       "      <th>0</th>\n",
       "      <td>1</td>\n",
       "      <td>Ferrell</td>\n",
       "    </tr>\n",
       "    <tr>\n",
       "      <th>1</th>\n",
       "      <td>2</td>\n",
       "      <td>Thompson</td>\n",
       "    </tr>\n",
       "    <tr>\n",
       "      <th>2</th>\n",
       "      <td>3</td>\n",
       "      <td>NaN</td>\n",
       "    </tr>\n",
       "  </tbody>\n",
       "</table>\n",
       "</div>"
      ],
      "text/plain": [
       "   SpotId      Name\n",
       "0       1   Ferrell\n",
       "1       2  Thompson\n",
       "2       3       NaN"
      ]
     },
     "execution_count": 49,
     "metadata": {},
     "output_type": "execute_result"
    }
   ],
   "source": [
    "## Create a lookup table of SpotIds to Names\n",
    "spot_range = pd.DataFrame(pd.Series(np.arange(1,64)), columns=['SpotId'])\n",
    "spot_names = pd.read_csv(\"spot_names.csv\", \" \")\n",
    "# spot_names\n",
    "# spot_range\n",
    "spot_names['SpotId'] =  spot_names['SpotId'].astype(int)\n",
    "spot_name_lookup = pd.merge(spot_range,spot_names, how='left', on='SpotId')\n",
    "spot_name_lookup.head(3)"
   ]
  },
  {
   "cell_type": "markdown",
   "metadata": {},
   "source": [
    "### Which Users have posted the most spots over time?"
   ]
  },
  {
   "cell_type": "code",
   "execution_count": 50,
   "metadata": {
    "collapsed": false
   },
   "outputs": [
    {
     "data": {
      "text/html": [
       "<div>\n",
       "<table border=\"1\" class=\"dataframe\">\n",
       "  <thead>\n",
       "    <tr style=\"text-align: right;\">\n",
       "      <th></th>\n",
       "      <th>SpotId</th>\n",
       "      <th>Counts</th>\n",
       "      <th>Name</th>\n",
       "    </tr>\n",
       "  </thead>\n",
       "  <tbody>\n",
       "    <tr>\n",
       "      <th>0</th>\n",
       "      <td>24</td>\n",
       "      <td>47</td>\n",
       "      <td>Antram</td>\n",
       "    </tr>\n",
       "    <tr>\n",
       "      <th>1</th>\n",
       "      <td>49</td>\n",
       "      <td>35</td>\n",
       "      <td>Holder</td>\n",
       "    </tr>\n",
       "    <tr>\n",
       "      <th>2</th>\n",
       "      <td>6</td>\n",
       "      <td>27</td>\n",
       "      <td>Reed</td>\n",
       "    </tr>\n",
       "    <tr>\n",
       "      <th>3</th>\n",
       "      <td>39</td>\n",
       "      <td>20</td>\n",
       "      <td>Derry</td>\n",
       "    </tr>\n",
       "    <tr>\n",
       "      <th>4</th>\n",
       "      <td>25</td>\n",
       "      <td>20</td>\n",
       "      <td>Tulley</td>\n",
       "    </tr>\n",
       "  </tbody>\n",
       "</table>\n",
       "</div>"
      ],
      "text/plain": [
       "   SpotId  Counts    Name\n",
       "0      24      47  Antram\n",
       "1      49      35  Holder\n",
       "2       6      27    Reed\n",
       "3      39      20   Derry\n",
       "4      25      20  Tulley"
      ]
     },
     "execution_count": 50,
     "metadata": {},
     "output_type": "execute_result"
    }
   ],
   "source": [
    "## last 6 months\n",
    "top10s = df[(df['datetime'] > '2016-10-10') & (df['datetime'] <= '2017-4-10')]['pspot'].value_counts().head(10)\n",
    "top10d = pd.DataFrame(top10s).reset_index()\n",
    "top10d.columns = ['SpotId','Counts']\n",
    "top10_table = pd.merge(top10d,spot_name_lookup, how='left', on='SpotId')\n",
    "top10_table.head()"
   ]
  },
  {
   "cell_type": "code",
   "execution_count": 51,
   "metadata": {
    "collapsed": false
   },
   "outputs": [
    {
     "data": {
      "text/html": [
       "<div>\n",
       "<table border=\"1\" class=\"dataframe\">\n",
       "  <thead>\n",
       "    <tr style=\"text-align: right;\">\n",
       "      <th></th>\n",
       "      <th>SpotId</th>\n",
       "      <th>Counts</th>\n",
       "      <th>Name</th>\n",
       "    </tr>\n",
       "  </thead>\n",
       "  <tbody>\n",
       "    <tr>\n",
       "      <th>0</th>\n",
       "      <td>25</td>\n",
       "      <td>196</td>\n",
       "      <td>Tulley</td>\n",
       "    </tr>\n",
       "    <tr>\n",
       "      <th>1</th>\n",
       "      <td>24</td>\n",
       "      <td>176</td>\n",
       "      <td>Antram</td>\n",
       "    </tr>\n",
       "    <tr>\n",
       "      <th>2</th>\n",
       "      <td>5</td>\n",
       "      <td>134</td>\n",
       "      <td>NaN</td>\n",
       "    </tr>\n",
       "    <tr>\n",
       "      <th>3</th>\n",
       "      <td>8</td>\n",
       "      <td>116</td>\n",
       "      <td>Welsh</td>\n",
       "    </tr>\n",
       "    <tr>\n",
       "      <th>4</th>\n",
       "      <td>49</td>\n",
       "      <td>94</td>\n",
       "      <td>Holder</td>\n",
       "    </tr>\n",
       "  </tbody>\n",
       "</table>\n",
       "</div>"
      ],
      "text/plain": [
       "   SpotId  Counts    Name\n",
       "0      25     196  Tulley\n",
       "1      24     176  Antram\n",
       "2       5     134     NaN\n",
       "3       8     116   Welsh\n",
       "4      49      94  Holder"
      ]
     },
     "execution_count": 51,
     "metadata": {},
     "output_type": "execute_result"
    }
   ],
   "source": [
    "## all time - where did spot owner #5 go?\n",
    "top10s = df['pspot'].value_counts().head(10)\n",
    "top10d = pd.DataFrame(top10s).reset_index()\n",
    "top10d.columns = ['SpotId','Counts']\n",
    "top10_table = pd.merge(top10d,spot_name_lookup, how='left', on='SpotId')\n",
    "top10_table.head()"
   ]
  },
  {
   "cell_type": "markdown",
   "metadata": {},
   "source": [
    "### Which Users have posted the least over the last 6 months? :("
   ]
  },
  {
   "cell_type": "code",
   "execution_count": 77,
   "metadata": {
    "collapsed": false
   },
   "outputs": [
    {
     "data": {
      "text/html": [
       "<div>\n",
       "<table border=\"1\" class=\"dataframe\">\n",
       "  <thead>\n",
       "    <tr style=\"text-align: right;\">\n",
       "      <th></th>\n",
       "      <th>SpotId</th>\n",
       "    </tr>\n",
       "  </thead>\n",
       "  <tbody>\n",
       "    <tr>\n",
       "      <th>0</th>\n",
       "      <td>1</td>\n",
       "    </tr>\n",
       "    <tr>\n",
       "      <th>1</th>\n",
       "      <td>2</td>\n",
       "    </tr>\n",
       "    <tr>\n",
       "      <th>2</th>\n",
       "      <td>3</td>\n",
       "    </tr>\n",
       "    <tr>\n",
       "      <th>3</th>\n",
       "      <td>4</td>\n",
       "    </tr>\n",
       "    <tr>\n",
       "      <th>4</th>\n",
       "      <td>5</td>\n",
       "    </tr>\n",
       "    <tr>\n",
       "      <th>5</th>\n",
       "      <td>6</td>\n",
       "    </tr>\n",
       "    <tr>\n",
       "      <th>6</th>\n",
       "      <td>7</td>\n",
       "    </tr>\n",
       "    <tr>\n",
       "      <th>7</th>\n",
       "      <td>8</td>\n",
       "    </tr>\n",
       "    <tr>\n",
       "      <th>8</th>\n",
       "      <td>9</td>\n",
       "    </tr>\n",
       "    <tr>\n",
       "      <th>9</th>\n",
       "      <td>10</td>\n",
       "    </tr>\n",
       "    <tr>\n",
       "      <th>10</th>\n",
       "      <td>11</td>\n",
       "    </tr>\n",
       "    <tr>\n",
       "      <th>11</th>\n",
       "      <td>12</td>\n",
       "    </tr>\n",
       "    <tr>\n",
       "      <th>12</th>\n",
       "      <td>13</td>\n",
       "    </tr>\n",
       "    <tr>\n",
       "      <th>13</th>\n",
       "      <td>14</td>\n",
       "    </tr>\n",
       "    <tr>\n",
       "      <th>14</th>\n",
       "      <td>15</td>\n",
       "    </tr>\n",
       "    <tr>\n",
       "      <th>15</th>\n",
       "      <td>16</td>\n",
       "    </tr>\n",
       "    <tr>\n",
       "      <th>16</th>\n",
       "      <td>17</td>\n",
       "    </tr>\n",
       "    <tr>\n",
       "      <th>17</th>\n",
       "      <td>18</td>\n",
       "    </tr>\n",
       "    <tr>\n",
       "      <th>18</th>\n",
       "      <td>19</td>\n",
       "    </tr>\n",
       "    <tr>\n",
       "      <th>19</th>\n",
       "      <td>20</td>\n",
       "    </tr>\n",
       "    <tr>\n",
       "      <th>20</th>\n",
       "      <td>21</td>\n",
       "    </tr>\n",
       "    <tr>\n",
       "      <th>21</th>\n",
       "      <td>22</td>\n",
       "    </tr>\n",
       "    <tr>\n",
       "      <th>22</th>\n",
       "      <td>23</td>\n",
       "    </tr>\n",
       "    <tr>\n",
       "      <th>23</th>\n",
       "      <td>24</td>\n",
       "    </tr>\n",
       "    <tr>\n",
       "      <th>24</th>\n",
       "      <td>25</td>\n",
       "    </tr>\n",
       "    <tr>\n",
       "      <th>25</th>\n",
       "      <td>26</td>\n",
       "    </tr>\n",
       "    <tr>\n",
       "      <th>26</th>\n",
       "      <td>27</td>\n",
       "    </tr>\n",
       "    <tr>\n",
       "      <th>27</th>\n",
       "      <td>28</td>\n",
       "    </tr>\n",
       "    <tr>\n",
       "      <th>28</th>\n",
       "      <td>29</td>\n",
       "    </tr>\n",
       "    <tr>\n",
       "      <th>29</th>\n",
       "      <td>30</td>\n",
       "    </tr>\n",
       "    <tr>\n",
       "      <th>...</th>\n",
       "      <td>...</td>\n",
       "    </tr>\n",
       "    <tr>\n",
       "      <th>33</th>\n",
       "      <td>34</td>\n",
       "    </tr>\n",
       "    <tr>\n",
       "      <th>34</th>\n",
       "      <td>35</td>\n",
       "    </tr>\n",
       "    <tr>\n",
       "      <th>35</th>\n",
       "      <td>36</td>\n",
       "    </tr>\n",
       "    <tr>\n",
       "      <th>36</th>\n",
       "      <td>37</td>\n",
       "    </tr>\n",
       "    <tr>\n",
       "      <th>37</th>\n",
       "      <td>38</td>\n",
       "    </tr>\n",
       "    <tr>\n",
       "      <th>38</th>\n",
       "      <td>39</td>\n",
       "    </tr>\n",
       "    <tr>\n",
       "      <th>39</th>\n",
       "      <td>40</td>\n",
       "    </tr>\n",
       "    <tr>\n",
       "      <th>40</th>\n",
       "      <td>41</td>\n",
       "    </tr>\n",
       "    <tr>\n",
       "      <th>41</th>\n",
       "      <td>42</td>\n",
       "    </tr>\n",
       "    <tr>\n",
       "      <th>42</th>\n",
       "      <td>43</td>\n",
       "    </tr>\n",
       "    <tr>\n",
       "      <th>43</th>\n",
       "      <td>44</td>\n",
       "    </tr>\n",
       "    <tr>\n",
       "      <th>44</th>\n",
       "      <td>45</td>\n",
       "    </tr>\n",
       "    <tr>\n",
       "      <th>45</th>\n",
       "      <td>46</td>\n",
       "    </tr>\n",
       "    <tr>\n",
       "      <th>46</th>\n",
       "      <td>47</td>\n",
       "    </tr>\n",
       "    <tr>\n",
       "      <th>47</th>\n",
       "      <td>48</td>\n",
       "    </tr>\n",
       "    <tr>\n",
       "      <th>48</th>\n",
       "      <td>49</td>\n",
       "    </tr>\n",
       "    <tr>\n",
       "      <th>49</th>\n",
       "      <td>50</td>\n",
       "    </tr>\n",
       "    <tr>\n",
       "      <th>50</th>\n",
       "      <td>51</td>\n",
       "    </tr>\n",
       "    <tr>\n",
       "      <th>51</th>\n",
       "      <td>52</td>\n",
       "    </tr>\n",
       "    <tr>\n",
       "      <th>52</th>\n",
       "      <td>53</td>\n",
       "    </tr>\n",
       "    <tr>\n",
       "      <th>53</th>\n",
       "      <td>54</td>\n",
       "    </tr>\n",
       "    <tr>\n",
       "      <th>54</th>\n",
       "      <td>55</td>\n",
       "    </tr>\n",
       "    <tr>\n",
       "      <th>55</th>\n",
       "      <td>56</td>\n",
       "    </tr>\n",
       "    <tr>\n",
       "      <th>56</th>\n",
       "      <td>57</td>\n",
       "    </tr>\n",
       "    <tr>\n",
       "      <th>57</th>\n",
       "      <td>58</td>\n",
       "    </tr>\n",
       "    <tr>\n",
       "      <th>58</th>\n",
       "      <td>59</td>\n",
       "    </tr>\n",
       "    <tr>\n",
       "      <th>59</th>\n",
       "      <td>60</td>\n",
       "    </tr>\n",
       "    <tr>\n",
       "      <th>60</th>\n",
       "      <td>61</td>\n",
       "    </tr>\n",
       "    <tr>\n",
       "      <th>61</th>\n",
       "      <td>62</td>\n",
       "    </tr>\n",
       "    <tr>\n",
       "      <th>62</th>\n",
       "      <td>63</td>\n",
       "    </tr>\n",
       "  </tbody>\n",
       "</table>\n",
       "<p>63 rows × 1 columns</p>\n",
       "</div>"
      ],
      "text/plain": [
       "    SpotId\n",
       "0        1\n",
       "1        2\n",
       "2        3\n",
       "3        4\n",
       "4        5\n",
       "5        6\n",
       "6        7\n",
       "7        8\n",
       "8        9\n",
       "9       10\n",
       "10      11\n",
       "11      12\n",
       "12      13\n",
       "13      14\n",
       "14      15\n",
       "15      16\n",
       "16      17\n",
       "17      18\n",
       "18      19\n",
       "19      20\n",
       "20      21\n",
       "21      22\n",
       "22      23\n",
       "23      24\n",
       "24      25\n",
       "25      26\n",
       "26      27\n",
       "27      28\n",
       "28      29\n",
       "29      30\n",
       "..     ...\n",
       "33      34\n",
       "34      35\n",
       "35      36\n",
       "36      37\n",
       "37      38\n",
       "38      39\n",
       "39      40\n",
       "40      41\n",
       "41      42\n",
       "42      43\n",
       "43      44\n",
       "44      45\n",
       "45      46\n",
       "46      47\n",
       "47      48\n",
       "48      49\n",
       "49      50\n",
       "50      51\n",
       "51      52\n",
       "52      53\n",
       "53      54\n",
       "54      55\n",
       "55      56\n",
       "56      57\n",
       "57      58\n",
       "58      59\n",
       "59      60\n",
       "60      61\n",
       "61      62\n",
       "62      63\n",
       "\n",
       "[63 rows x 1 columns]"
      ]
     },
     "execution_count": 77,
     "metadata": {},
     "output_type": "execute_result"
    }
   ],
   "source": [
    "## last 6 months\n",
    "spot_range\n",
    "\n",
    "# top10s = df[(df['datetime'] > '2016-10-10') & (df['datetime'] <= '2017-4-10')]['pspot'].value_counts()\n",
    "# top10d.columns = ['SpotId','Counts']\n",
    "# bottom10s = df[(df['datetime'] > '2016-10-10') & (df['datetime'] <= '2017-4-10')]['pspot']\n",
    "\n",
    "\n",
    "\n",
    "# top10_table = pd.merge(top10d,spot_name_lookup, how='left', on='SpotId')\n",
    "# top10_table.tail()"
   ]
  },
  {
   "cell_type": "code",
   "execution_count": null,
   "metadata": {
    "collapsed": true
   },
   "outputs": [],
   "source": []
  },
  {
   "cell_type": "code",
   "execution_count": null,
   "metadata": {
    "collapsed": true
   },
   "outputs": [],
   "source": []
  },
  {
   "cell_type": "code",
   "execution_count": 34,
   "metadata": {
    "collapsed": false
   },
   "outputs": [
    {
     "ename": "KeyError",
     "evalue": "'pspot'",
     "output_type": "error",
     "traceback": [
      "\u001b[0;31m\u001b[0m",
      "\u001b[0;31mKeyError\u001b[0mTraceback (most recent call last)",
      "\u001b[0;32m<ipython-input-34-d937b56356e6>\u001b[0m in \u001b[0;36m<module>\u001b[0;34m()\u001b[0m\n\u001b[1;32m      1\u001b[0m \u001b[0;31m## all time\u001b[0m\u001b[0;34m\u001b[0m\u001b[0;34m\u001b[0m\u001b[0m\n\u001b[0;32m----> 2\u001b[0;31m \u001b[0mtop10s\u001b[0m \u001b[0;34m=\u001b[0m \u001b[0mdf\u001b[0m\u001b[0;34m[\u001b[0m\u001b[0;34m'pspot'\u001b[0m\u001b[0;34m]\u001b[0m\u001b[0;34m.\u001b[0m\u001b[0mvalue_counts\u001b[0m\u001b[0;34m(\u001b[0m\u001b[0;34m)\u001b[0m\u001b[0;34m.\u001b[0m\u001b[0mtail\u001b[0m\u001b[0;34m(\u001b[0m\u001b[0;36m10\u001b[0m\u001b[0;34m)\u001b[0m\u001b[0;34m\u001b[0m\u001b[0m\n\u001b[0m\u001b[1;32m      3\u001b[0m \u001b[0mtop10d\u001b[0m \u001b[0;34m=\u001b[0m \u001b[0mpd\u001b[0m\u001b[0;34m.\u001b[0m\u001b[0mDataFrame\u001b[0m\u001b[0;34m(\u001b[0m\u001b[0mtop10s\u001b[0m\u001b[0;34m)\u001b[0m\u001b[0;34m.\u001b[0m\u001b[0mreset_index\u001b[0m\u001b[0;34m(\u001b[0m\u001b[0;34m)\u001b[0m\u001b[0;34m\u001b[0m\u001b[0m\n\u001b[1;32m      4\u001b[0m \u001b[0mtop10d\u001b[0m\u001b[0;34m.\u001b[0m\u001b[0mcolumns\u001b[0m \u001b[0;34m=\u001b[0m \u001b[0;34m[\u001b[0m\u001b[0;34m'SpotId'\u001b[0m\u001b[0;34m,\u001b[0m\u001b[0;34m'Counts'\u001b[0m\u001b[0;34m]\u001b[0m\u001b[0;34m\u001b[0m\u001b[0m\n\u001b[1;32m      5\u001b[0m \u001b[0mtop10_table\u001b[0m \u001b[0;34m=\u001b[0m \u001b[0mpd\u001b[0m\u001b[0;34m.\u001b[0m\u001b[0mmerge\u001b[0m\u001b[0;34m(\u001b[0m\u001b[0mtop10d\u001b[0m\u001b[0;34m,\u001b[0m\u001b[0mspot_name_lookup\u001b[0m\u001b[0;34m,\u001b[0m \u001b[0mhow\u001b[0m\u001b[0;34m=\u001b[0m\u001b[0;34m'left'\u001b[0m\u001b[0;34m,\u001b[0m \u001b[0mon\u001b[0m\u001b[0;34m=\u001b[0m\u001b[0;34m'SpotId'\u001b[0m\u001b[0;34m)\u001b[0m\u001b[0;34m\u001b[0m\u001b[0m\n",
      "\u001b[0;32m/home/cloud-user/anaconda2/lib/python2.7/site-packages/pandas/core/frame.pyc\u001b[0m in \u001b[0;36m__getitem__\u001b[0;34m(self, key)\u001b[0m\n\u001b[1;32m   2057\u001b[0m             \u001b[0;32mreturn\u001b[0m \u001b[0mself\u001b[0m\u001b[0;34m.\u001b[0m\u001b[0m_getitem_multilevel\u001b[0m\u001b[0;34m(\u001b[0m\u001b[0mkey\u001b[0m\u001b[0;34m)\u001b[0m\u001b[0;34m\u001b[0m\u001b[0m\n\u001b[1;32m   2058\u001b[0m         \u001b[0;32melse\u001b[0m\u001b[0;34m:\u001b[0m\u001b[0;34m\u001b[0m\u001b[0m\n\u001b[0;32m-> 2059\u001b[0;31m             \u001b[0;32mreturn\u001b[0m \u001b[0mself\u001b[0m\u001b[0;34m.\u001b[0m\u001b[0m_getitem_column\u001b[0m\u001b[0;34m(\u001b[0m\u001b[0mkey\u001b[0m\u001b[0;34m)\u001b[0m\u001b[0;34m\u001b[0m\u001b[0m\n\u001b[0m\u001b[1;32m   2060\u001b[0m \u001b[0;34m\u001b[0m\u001b[0m\n\u001b[1;32m   2061\u001b[0m     \u001b[0;32mdef\u001b[0m \u001b[0m_getitem_column\u001b[0m\u001b[0;34m(\u001b[0m\u001b[0mself\u001b[0m\u001b[0;34m,\u001b[0m \u001b[0mkey\u001b[0m\u001b[0;34m)\u001b[0m\u001b[0;34m:\u001b[0m\u001b[0;34m\u001b[0m\u001b[0m\n",
      "\u001b[0;32m/home/cloud-user/anaconda2/lib/python2.7/site-packages/pandas/core/frame.pyc\u001b[0m in \u001b[0;36m_getitem_column\u001b[0;34m(self, key)\u001b[0m\n\u001b[1;32m   2064\u001b[0m         \u001b[0;31m# get column\u001b[0m\u001b[0;34m\u001b[0m\u001b[0;34m\u001b[0m\u001b[0m\n\u001b[1;32m   2065\u001b[0m         \u001b[0;32mif\u001b[0m \u001b[0mself\u001b[0m\u001b[0;34m.\u001b[0m\u001b[0mcolumns\u001b[0m\u001b[0;34m.\u001b[0m\u001b[0mis_unique\u001b[0m\u001b[0;34m:\u001b[0m\u001b[0;34m\u001b[0m\u001b[0m\n\u001b[0;32m-> 2066\u001b[0;31m             \u001b[0;32mreturn\u001b[0m \u001b[0mself\u001b[0m\u001b[0;34m.\u001b[0m\u001b[0m_get_item_cache\u001b[0m\u001b[0;34m(\u001b[0m\u001b[0mkey\u001b[0m\u001b[0;34m)\u001b[0m\u001b[0;34m\u001b[0m\u001b[0m\n\u001b[0m\u001b[1;32m   2067\u001b[0m \u001b[0;34m\u001b[0m\u001b[0m\n\u001b[1;32m   2068\u001b[0m         \u001b[0;31m# duplicate columns & possible reduce dimensionality\u001b[0m\u001b[0;34m\u001b[0m\u001b[0;34m\u001b[0m\u001b[0m\n",
      "\u001b[0;32m/home/cloud-user/anaconda2/lib/python2.7/site-packages/pandas/core/generic.pyc\u001b[0m in \u001b[0;36m_get_item_cache\u001b[0;34m(self, item)\u001b[0m\n\u001b[1;32m   1384\u001b[0m         \u001b[0mres\u001b[0m \u001b[0;34m=\u001b[0m \u001b[0mcache\u001b[0m\u001b[0;34m.\u001b[0m\u001b[0mget\u001b[0m\u001b[0;34m(\u001b[0m\u001b[0mitem\u001b[0m\u001b[0;34m)\u001b[0m\u001b[0;34m\u001b[0m\u001b[0m\n\u001b[1;32m   1385\u001b[0m         \u001b[0;32mif\u001b[0m \u001b[0mres\u001b[0m \u001b[0;32mis\u001b[0m \u001b[0mNone\u001b[0m\u001b[0;34m:\u001b[0m\u001b[0;34m\u001b[0m\u001b[0m\n\u001b[0;32m-> 1386\u001b[0;31m             \u001b[0mvalues\u001b[0m \u001b[0;34m=\u001b[0m \u001b[0mself\u001b[0m\u001b[0;34m.\u001b[0m\u001b[0m_data\u001b[0m\u001b[0;34m.\u001b[0m\u001b[0mget\u001b[0m\u001b[0;34m(\u001b[0m\u001b[0mitem\u001b[0m\u001b[0;34m)\u001b[0m\u001b[0;34m\u001b[0m\u001b[0m\n\u001b[0m\u001b[1;32m   1387\u001b[0m             \u001b[0mres\u001b[0m \u001b[0;34m=\u001b[0m \u001b[0mself\u001b[0m\u001b[0;34m.\u001b[0m\u001b[0m_box_item_values\u001b[0m\u001b[0;34m(\u001b[0m\u001b[0mitem\u001b[0m\u001b[0;34m,\u001b[0m \u001b[0mvalues\u001b[0m\u001b[0;34m)\u001b[0m\u001b[0;34m\u001b[0m\u001b[0m\n\u001b[1;32m   1388\u001b[0m             \u001b[0mcache\u001b[0m\u001b[0;34m[\u001b[0m\u001b[0mitem\u001b[0m\u001b[0;34m]\u001b[0m \u001b[0;34m=\u001b[0m \u001b[0mres\u001b[0m\u001b[0;34m\u001b[0m\u001b[0m\n",
      "\u001b[0;32m/home/cloud-user/anaconda2/lib/python2.7/site-packages/pandas/core/internals.pyc\u001b[0m in \u001b[0;36mget\u001b[0;34m(self, item, fastpath)\u001b[0m\n\u001b[1;32m   3541\u001b[0m \u001b[0;34m\u001b[0m\u001b[0m\n\u001b[1;32m   3542\u001b[0m             \u001b[0;32mif\u001b[0m \u001b[0;32mnot\u001b[0m \u001b[0misnull\u001b[0m\u001b[0;34m(\u001b[0m\u001b[0mitem\u001b[0m\u001b[0;34m)\u001b[0m\u001b[0;34m:\u001b[0m\u001b[0;34m\u001b[0m\u001b[0m\n\u001b[0;32m-> 3543\u001b[0;31m                 \u001b[0mloc\u001b[0m \u001b[0;34m=\u001b[0m \u001b[0mself\u001b[0m\u001b[0;34m.\u001b[0m\u001b[0mitems\u001b[0m\u001b[0;34m.\u001b[0m\u001b[0mget_loc\u001b[0m\u001b[0;34m(\u001b[0m\u001b[0mitem\u001b[0m\u001b[0;34m)\u001b[0m\u001b[0;34m\u001b[0m\u001b[0m\n\u001b[0m\u001b[1;32m   3544\u001b[0m             \u001b[0;32melse\u001b[0m\u001b[0;34m:\u001b[0m\u001b[0;34m\u001b[0m\u001b[0m\n\u001b[1;32m   3545\u001b[0m                 \u001b[0mindexer\u001b[0m \u001b[0;34m=\u001b[0m \u001b[0mnp\u001b[0m\u001b[0;34m.\u001b[0m\u001b[0marange\u001b[0m\u001b[0;34m(\u001b[0m\u001b[0mlen\u001b[0m\u001b[0;34m(\u001b[0m\u001b[0mself\u001b[0m\u001b[0;34m.\u001b[0m\u001b[0mitems\u001b[0m\u001b[0;34m)\u001b[0m\u001b[0;34m)\u001b[0m\u001b[0;34m[\u001b[0m\u001b[0misnull\u001b[0m\u001b[0;34m(\u001b[0m\u001b[0mself\u001b[0m\u001b[0;34m.\u001b[0m\u001b[0mitems\u001b[0m\u001b[0;34m)\u001b[0m\u001b[0;34m]\u001b[0m\u001b[0;34m\u001b[0m\u001b[0m\n",
      "\u001b[0;32m/home/cloud-user/anaconda2/lib/python2.7/site-packages/pandas/indexes/base.pyc\u001b[0m in \u001b[0;36mget_loc\u001b[0;34m(self, key, method, tolerance)\u001b[0m\n\u001b[1;32m   2134\u001b[0m                 \u001b[0;32mreturn\u001b[0m \u001b[0mself\u001b[0m\u001b[0;34m.\u001b[0m\u001b[0m_engine\u001b[0m\u001b[0;34m.\u001b[0m\u001b[0mget_loc\u001b[0m\u001b[0;34m(\u001b[0m\u001b[0mkey\u001b[0m\u001b[0;34m)\u001b[0m\u001b[0;34m\u001b[0m\u001b[0m\n\u001b[1;32m   2135\u001b[0m             \u001b[0;32mexcept\u001b[0m \u001b[0mKeyError\u001b[0m\u001b[0;34m:\u001b[0m\u001b[0;34m\u001b[0m\u001b[0m\n\u001b[0;32m-> 2136\u001b[0;31m                 \u001b[0;32mreturn\u001b[0m \u001b[0mself\u001b[0m\u001b[0;34m.\u001b[0m\u001b[0m_engine\u001b[0m\u001b[0;34m.\u001b[0m\u001b[0mget_loc\u001b[0m\u001b[0;34m(\u001b[0m\u001b[0mself\u001b[0m\u001b[0;34m.\u001b[0m\u001b[0m_maybe_cast_indexer\u001b[0m\u001b[0;34m(\u001b[0m\u001b[0mkey\u001b[0m\u001b[0;34m)\u001b[0m\u001b[0;34m)\u001b[0m\u001b[0;34m\u001b[0m\u001b[0m\n\u001b[0m\u001b[1;32m   2137\u001b[0m \u001b[0;34m\u001b[0m\u001b[0m\n\u001b[1;32m   2138\u001b[0m         \u001b[0mindexer\u001b[0m \u001b[0;34m=\u001b[0m \u001b[0mself\u001b[0m\u001b[0;34m.\u001b[0m\u001b[0mget_indexer\u001b[0m\u001b[0;34m(\u001b[0m\u001b[0;34m[\u001b[0m\u001b[0mkey\u001b[0m\u001b[0;34m]\u001b[0m\u001b[0;34m,\u001b[0m \u001b[0mmethod\u001b[0m\u001b[0;34m=\u001b[0m\u001b[0mmethod\u001b[0m\u001b[0;34m,\u001b[0m \u001b[0mtolerance\u001b[0m\u001b[0;34m=\u001b[0m\u001b[0mtolerance\u001b[0m\u001b[0;34m)\u001b[0m\u001b[0;34m\u001b[0m\u001b[0m\n",
      "\u001b[0;32mpandas/index.pyx\u001b[0m in \u001b[0;36mpandas.index.IndexEngine.get_loc (pandas/index.c:4433)\u001b[0;34m()\u001b[0m\n",
      "\u001b[0;32mpandas/index.pyx\u001b[0m in \u001b[0;36mpandas.index.IndexEngine.get_loc (pandas/index.c:4279)\u001b[0;34m()\u001b[0m\n",
      "\u001b[0;32mpandas/src/hashtable_class_helper.pxi\u001b[0m in \u001b[0;36mpandas.hashtable.PyObjectHashTable.get_item (pandas/hashtable.c:13742)\u001b[0;34m()\u001b[0m\n",
      "\u001b[0;32mpandas/src/hashtable_class_helper.pxi\u001b[0m in \u001b[0;36mpandas.hashtable.PyObjectHashTable.get_item (pandas/hashtable.c:13696)\u001b[0;34m()\u001b[0m\n",
      "\u001b[0;31mKeyError\u001b[0m: 'pspot'"
     ]
    }
   ],
   "source": [
    "## all time\n",
    "top10s = df['pspot'].value_counts().tail(10)\n",
    "top10d = pd.DataFrame(top10s).reset_index()\n",
    "top10d.columns = ['SpotId','Counts']\n",
    "top10_table = pd.merge(top10d,spot_name_lookup, how='left', on='SpotId')\n",
    "top10_table.tail()"
   ]
  },
  {
   "cell_type": "code",
   "execution_count": null,
   "metadata": {
    "collapsed": true
   },
   "outputs": [],
   "source": []
  },
  {
   "cell_type": "markdown",
   "metadata": {},
   "source": [
    "### Let's compare the First 6 months of operation to the last 6 months"
   ]
  },
  {
   "cell_type": "code",
   "execution_count": 25,
   "metadata": {
    "collapsed": false
   },
   "outputs": [
    {
     "data": {
      "text/html": [
       "<div>\n",
       "<table border=\"1\" class=\"dataframe\">\n",
       "  <thead>\n",
       "    <tr style=\"text-align: right;\">\n",
       "      <th></th>\n",
       "      <th>beneficiaries</th>\n",
       "      <th>spots_booked</th>\n",
       "    </tr>\n",
       "  </thead>\n",
       "  <tbody>\n",
       "    <tr>\n",
       "      <th>First 6 Months</th>\n",
       "      <td>64</td>\n",
       "      <td>821</td>\n",
       "    </tr>\n",
       "    <tr>\n",
       "      <th>Last 6 Months</th>\n",
       "      <td>36</td>\n",
       "      <td>286</td>\n",
       "    </tr>\n",
       "    <tr>\n",
       "      <th>First 3 Months</th>\n",
       "      <td>57</td>\n",
       "      <td>487</td>\n",
       "    </tr>\n",
       "    <tr>\n",
       "      <th>Last 3 Months</th>\n",
       "      <td>25</td>\n",
       "      <td>130</td>\n",
       "    </tr>\n",
       "  </tbody>\n",
       "</table>\n",
       "</div>"
      ],
      "text/plain": [
       "                beneficiaries  spots_booked\n",
       "First 6 Months             64           821\n",
       "Last 6 Months              36           286\n",
       "First 3 Months             57           487\n",
       "Last 3 Months              25           130"
      ]
     },
     "execution_count": 25,
     "metadata": {},
     "output_type": "execute_result"
    }
   ],
   "source": [
    "type(compare)\n",
    "compare_t = compare.rename(index=str,columns={'First6':'First 6 Months','Last6':'Last 6 Months',\n",
    "                                              'First3':'First 3 Months','Last3':'Last 3 Months'}).transpose()\n",
    "compare_t"
   ]
  },
  {
   "cell_type": "code",
   "execution_count": 26,
   "metadata": {
    "collapsed": false
   },
   "outputs": [
    {
     "data": {
      "text/plain": [
       "<matplotlib.text.Text at 0x7f6f6a8796d0>"
      ]
     },
     "execution_count": 26,
     "metadata": {},
     "output_type": "execute_result"
    },
    {
     "data": {
      "image/png": "[encoded data removed]",
      "text/plain": [
       "<matplotlib.figure.Figure at 0x7f6f6a5d8e90>"
      ]
     },
     "metadata": {},
     "output_type": "display_data"
    }
   ],
   "source": [
    "fig, axes = plt.subplots(nrows=1, ncols=3,figsize = (16, 4))\n",
    "\n",
    "plot_benefactors = compare_t['beneficiaries'][0:2].plot(ax=axes[0], kind='bar', color='c' )\n",
    "plot_benefactors.set_title('# of individual beneficiares')\n",
    "plot_benefactors.set_ylabel('# of individual beneficiares')\n",
    "\n",
    "plot_spots = compare_t['spots_booked'][0:2].plot(ax=axes[1], kind='bar', color='c')\n",
    "plot_spots.set_title('# Spots Booked in first 6 mths vs Last 6 mths')\n",
    "plot_spots.set_ylabel('Total # of spots booked')\n",
    "\n",
    "# compare_t['beneficiaries']['change'] = compare_t['beneficiaries'].pct_change()\n",
    "# compare_t['spots_booked']['change'] = compare_t['spots_booked'].pct_change()\n",
    "\n",
    "plot_spots = compare_t['spots_booked'][2:5].plot(ax=axes[2], kind='bar', color='c')\n",
    "plot_spots.set_title('# Spots Booked in first 3 mths vs Last 3 mths')\n",
    "plot_spots.set_ylabel('Total # of spots booked')\n"
   ]
  },
  {
   "cell_type": "code",
   "execution_count": 27,
   "metadata": {
    "collapsed": false
   },
   "outputs": [
    {
     "data": {
      "text/html": [
       "<div>\n",
       "<table border=\"1\" class=\"dataframe\">\n",
       "  <thead>\n",
       "    <tr style=\"text-align: right;\">\n",
       "      <th></th>\n",
       "      <th>beneficiaries</th>\n",
       "      <th>spots_booked</th>\n",
       "      <th>pct_change_ben</th>\n",
       "      <th>pct_change_spot_booked</th>\n",
       "    </tr>\n",
       "  </thead>\n",
       "  <tbody>\n",
       "    <tr>\n",
       "      <th>First 6 Months</th>\n",
       "      <td>64</td>\n",
       "      <td>821</td>\n",
       "      <td>NaN</td>\n",
       "      <td>NaN</td>\n",
       "    </tr>\n",
       "    <tr>\n",
       "      <th>Last 6 Months</th>\n",
       "      <td>36</td>\n",
       "      <td>286</td>\n",
       "      <td>-0.437500</td>\n",
       "      <td>-0.651644</td>\n",
       "    </tr>\n",
       "    <tr>\n",
       "      <th>First 3 Months</th>\n",
       "      <td>57</td>\n",
       "      <td>487</td>\n",
       "      <td>0.583333</td>\n",
       "      <td>0.702797</td>\n",
       "    </tr>\n",
       "    <tr>\n",
       "      <th>Last 3 Months</th>\n",
       "      <td>25</td>\n",
       "      <td>130</td>\n",
       "      <td>-0.561404</td>\n",
       "      <td>-0.733060</td>\n",
       "    </tr>\n",
       "  </tbody>\n",
       "</table>\n",
       "</div>"
      ],
      "text/plain": [
       "                beneficiaries  spots_booked  pct_change_ben  \\\n",
       "First 6 Months             64           821             NaN   \n",
       "Last 6 Months              36           286       -0.437500   \n",
       "First 3 Months             57           487        0.583333   \n",
       "Last 3 Months              25           130       -0.561404   \n",
       "\n",
       "                pct_change_spot_booked  \n",
       "First 6 Months                     NaN  \n",
       "Last 6 Months                -0.651644  \n",
       "First 3 Months                0.702797  \n",
       "Last 3 Months                -0.733060  "
      ]
     },
     "execution_count": 27,
     "metadata": {},
     "output_type": "execute_result"
    }
   ],
   "source": [
    "compare_t['pct_change_ben'] = compare_t['beneficiaries'].pct_change()\n",
    "compare_t['pct_change_spot_booked'] = compare_t['spots_booked'].pct_change()\n",
    "compare_t"
   ]
  },
  {
   "cell_type": "markdown",
   "metadata": {},
   "source": [
    "### Let's expand the data set to include spots that weren't booked/posted. "
   ]
  },
  {
   "cell_type": "code",
   "execution_count": 28,
   "metadata": {
    "collapsed": false
   },
   "outputs": [
    {
     "data": {
      "text/html": [
       "<div>\n",
       "<table border=\"1\" class=\"dataframe\">\n",
       "  <thead>\n",
       "    <tr style=\"text-align: right;\">\n",
       "      <th></th>\n",
       "      <th>Date</th>\n",
       "      <th>SpotId</th>\n",
       "    </tr>\n",
       "  </thead>\n",
       "  <tbody>\n",
       "    <tr>\n",
       "      <th>27091</th>\n",
       "      <td>2017-04-25</td>\n",
       "      <td>60</td>\n",
       "    </tr>\n",
       "    <tr>\n",
       "      <th>27092</th>\n",
       "      <td>2017-04-25</td>\n",
       "      <td>61</td>\n",
       "    </tr>\n",
       "    <tr>\n",
       "      <th>27093</th>\n",
       "      <td>2017-04-25</td>\n",
       "      <td>62</td>\n",
       "    </tr>\n",
       "  </tbody>\n",
       "</table>\n",
       "</div>"
      ],
      "text/plain": [
       "            Date  SpotId\n",
       "27091 2017-04-25      60\n",
       "27092 2017-04-25      61\n",
       "27093 2017-04-25      62"
      ]
     },
     "execution_count": 28,
     "metadata": {},
     "output_type": "execute_result"
    }
   ],
   "source": [
    "start_dt = datetime(2015, 8, 24)\n",
    "end_dt = pd.to_datetime(datetime(2017,4,25))\n",
    "rng_df = pd.DataFrame(pd.bdate_range(start_dt, end_dt), columns=['Date'])  # date range set\n",
    "spot_range = pd.DataFrame(pd.Series(np.arange(1,63)), columns=['SpotId']) # 62 items in the spot range set\n",
    "date_and_spot = pd.merge(rng_df.assign(key=0), spot_range.assign(key=0), on='key').drop('key', axis=1) # cartesian product\n",
    "date_and_spot.tail(3)"
   ]
  },
  {
   "cell_type": "markdown",
   "metadata": {},
   "source": [
    "### Join it to the above detailed table"
   ]
  },
  {
   "cell_type": "code",
   "execution_count": 29,
   "metadata": {
    "collapsed": false
   },
   "outputs": [
    {
     "data": {
      "text/html": [
       "<div>\n",
       "<table border=\"1\" class=\"dataframe\">\n",
       "  <thead>\n",
       "    <tr style=\"text-align: right;\">\n",
       "      <th></th>\n",
       "      <th>SpotId</th>\n",
       "      <th>name</th>\n",
       "      <th>bookOrPost</th>\n",
       "      <th>Date</th>\n",
       "      <th>t_weekday</th>\n",
       "      <th>t_day</th>\n",
       "      <th>t_month</th>\n",
       "      <th>t_year</th>\n",
       "      <th>t_weekofyear</th>\n",
       "      <th>t_weekday_name</th>\n",
       "    </tr>\n",
       "  </thead>\n",
       "  <tbody>\n",
       "    <tr>\n",
       "      <th>1823</th>\n",
       "      <td>62</td>\n",
       "      <td>M.Faiyaz</td>\n",
       "      <td>B</td>\n",
       "      <td>2017-04-13</td>\n",
       "      <td>3</td>\n",
       "      <td>13</td>\n",
       "      <td>4</td>\n",
       "      <td>2017</td>\n",
       "      <td>15</td>\n",
       "      <td>Thursday</td>\n",
       "    </tr>\n",
       "    <tr>\n",
       "      <th>1824</th>\n",
       "      <td>62</td>\n",
       "      <td>J.Gunasekaran</td>\n",
       "      <td>B</td>\n",
       "      <td>2017-04-21</td>\n",
       "      <td>4</td>\n",
       "      <td>21</td>\n",
       "      <td>4</td>\n",
       "      <td>2017</td>\n",
       "      <td>16</td>\n",
       "      <td>Friday</td>\n",
       "    </tr>\n",
       "  </tbody>\n",
       "</table>\n",
       "</div>"
      ],
      "text/plain": [
       "      SpotId           name bookOrPost       Date  t_weekday  t_day  t_month  \\\n",
       "1823      62       M.Faiyaz          B 2017-04-13          3     13        4   \n",
       "1824      62  J.Gunasekaran          B 2017-04-21          4     21        4   \n",
       "\n",
       "      t_year  t_weekofyear t_weekday_name  \n",
       "1823    2017            15       Thursday  \n",
       "1824    2017            16         Friday  "
      ]
     },
     "execution_count": 29,
     "metadata": {},
     "output_type": "execute_result"
    }
   ],
   "source": [
    "df = df.rename(index=str, columns={'pspot': 'SpotId', 'datetime':'Date'})\n",
    "df.tail(2)"
   ]
  },
  {
   "cell_type": "code",
   "execution_count": 30,
   "metadata": {
    "collapsed": false
   },
   "outputs": [
    {
     "data": {
      "text/html": [
       "<div>\n",
       "<table border=\"1\" class=\"dataframe\">\n",
       "  <thead>\n",
       "    <tr style=\"text-align: right;\">\n",
       "      <th></th>\n",
       "      <th>Date</th>\n",
       "      <th>SpotId</th>\n",
       "      <th>name</th>\n",
       "      <th>Booked</th>\n",
       "      <th>t_weekday</th>\n",
       "      <th>t_day</th>\n",
       "      <th>t_month</th>\n",
       "      <th>t_year</th>\n",
       "      <th>t_weekofyear</th>\n",
       "      <th>t_weekday_name</th>\n",
       "    </tr>\n",
       "  </thead>\n",
       "  <tbody>\n",
       "    <tr>\n",
       "      <th>27136</th>\n",
       "      <td>2017-05-04</td>\n",
       "      <td>33</td>\n",
       "      <td>M.Faiyaz</td>\n",
       "      <td>1.0</td>\n",
       "      <td>3.0</td>\n",
       "      <td>4.0</td>\n",
       "      <td>5.0</td>\n",
       "      <td>2017.0</td>\n",
       "      <td>18.0</td>\n",
       "      <td>Thursday</td>\n",
       "    </tr>\n",
       "    <tr>\n",
       "      <th>27137</th>\n",
       "      <td>2017-05-05</td>\n",
       "      <td>33</td>\n",
       "      <td>C.Carito</td>\n",
       "      <td>1.0</td>\n",
       "      <td>4.0</td>\n",
       "      <td>5.0</td>\n",
       "      <td>5.0</td>\n",
       "      <td>2017.0</td>\n",
       "      <td>18.0</td>\n",
       "      <td>Friday</td>\n",
       "    </tr>\n",
       "    <tr>\n",
       "      <th>27138</th>\n",
       "      <td>2017-05-03</td>\n",
       "      <td>49</td>\n",
       "      <td>C.Sammut</td>\n",
       "      <td>1.0</td>\n",
       "      <td>2.0</td>\n",
       "      <td>3.0</td>\n",
       "      <td>5.0</td>\n",
       "      <td>2017.0</td>\n",
       "      <td>18.0</td>\n",
       "      <td>Wednesday</td>\n",
       "    </tr>\n",
       "  </tbody>\n",
       "</table>\n",
       "</div>"
      ],
      "text/plain": [
       "            Date  SpotId      name  Booked  t_weekday  t_day  t_month  t_year  \\\n",
       "27136 2017-05-04      33  M.Faiyaz     1.0        3.0    4.0      5.0  2017.0   \n",
       "27137 2017-05-05      33  C.Carito     1.0        4.0    5.0      5.0  2017.0   \n",
       "27138 2017-05-03      49  C.Sammut     1.0        2.0    3.0      5.0  2017.0   \n",
       "\n",
       "       t_weekofyear t_weekday_name  \n",
       "27136          18.0       Thursday  \n",
       "27137          18.0         Friday  \n",
       "27138          18.0      Wednesday  "
      ]
     },
     "execution_count": 30,
     "metadata": {},
     "output_type": "execute_result"
    }
   ],
   "source": [
    "abt = pd.merge(date_and_spot, df, how='outer',on=['Date','SpotId'])\n",
    "abt = abt.rename(index=str,columns={'bookOrPost': 'Booked'})\n",
    "abt['Booked'] = abt['Booked'].replace(to_replace='B', value=int(1))\n",
    "abt['Booked'] = abt['Booked'].replace(to_replace=np.NaN, value=int(0))\n",
    "abt.tail(3)"
   ]
  },
  {
   "cell_type": "code",
   "execution_count": 31,
   "metadata": {
    "collapsed": false,
    "scrolled": false
   },
   "outputs": [
    {
     "data": {
      "text/html": [
       "<div>\n",
       "<table border=\"1\" class=\"dataframe\">\n",
       "  <thead>\n",
       "    <tr style=\"text-align: right;\">\n",
       "      <th></th>\n",
       "      <th>Date</th>\n",
       "      <th>SpotId</th>\n",
       "      <th>name</th>\n",
       "      <th>Booked</th>\n",
       "      <th>t_weekday</th>\n",
       "      <th>t_day</th>\n",
       "      <th>t_month</th>\n",
       "      <th>t_year</th>\n",
       "      <th>t_weekofyear</th>\n",
       "      <th>t_weekday_name</th>\n",
       "    </tr>\n",
       "  </thead>\n",
       "  <tbody>\n",
       "    <tr>\n",
       "      <th>27124</th>\n",
       "      <td>2017-04-25</td>\n",
       "      <td>60</td>\n",
       "      <td>NaN</td>\n",
       "      <td>0.0</td>\n",
       "      <td>NaN</td>\n",
       "      <td>NaN</td>\n",
       "      <td>NaN</td>\n",
       "      <td>NaN</td>\n",
       "      <td>NaN</td>\n",
       "      <td>NaN</td>\n",
       "    </tr>\n",
       "    <tr>\n",
       "      <th>27125</th>\n",
       "      <td>2017-04-25</td>\n",
       "      <td>61</td>\n",
       "      <td>NaN</td>\n",
       "      <td>0.0</td>\n",
       "      <td>NaN</td>\n",
       "      <td>NaN</td>\n",
       "      <td>NaN</td>\n",
       "      <td>NaN</td>\n",
       "      <td>NaN</td>\n",
       "      <td>NaN</td>\n",
       "    </tr>\n",
       "    <tr>\n",
       "      <th>27126</th>\n",
       "      <td>2017-04-25</td>\n",
       "      <td>62</td>\n",
       "      <td>NaN</td>\n",
       "      <td>0.0</td>\n",
       "      <td>NaN</td>\n",
       "      <td>NaN</td>\n",
       "      <td>NaN</td>\n",
       "      <td>NaN</td>\n",
       "      <td>NaN</td>\n",
       "      <td>NaN</td>\n",
       "    </tr>\n",
       "    <tr>\n",
       "      <th>27127</th>\n",
       "      <td>2017-04-28</td>\n",
       "      <td>24</td>\n",
       "      <td>C.Miceli</td>\n",
       "      <td>1.0</td>\n",
       "      <td>4.0</td>\n",
       "      <td>28.0</td>\n",
       "      <td>4.0</td>\n",
       "      <td>2017.0</td>\n",
       "      <td>17.0</td>\n",
       "      <td>Friday</td>\n",
       "    </tr>\n",
       "    <tr>\n",
       "      <th>27128</th>\n",
       "      <td>2017-05-03</td>\n",
       "      <td>24</td>\n",
       "      <td>C.Miceli</td>\n",
       "      <td>1.0</td>\n",
       "      <td>2.0</td>\n",
       "      <td>3.0</td>\n",
       "      <td>5.0</td>\n",
       "      <td>2017.0</td>\n",
       "      <td>18.0</td>\n",
       "      <td>Wednesday</td>\n",
       "    </tr>\n",
       "    <tr>\n",
       "      <th>27129</th>\n",
       "      <td>2017-05-08</td>\n",
       "      <td>24</td>\n",
       "      <td>C.Miceli</td>\n",
       "      <td>1.0</td>\n",
       "      <td>0.0</td>\n",
       "      <td>8.0</td>\n",
       "      <td>5.0</td>\n",
       "      <td>2017.0</td>\n",
       "      <td>19.0</td>\n",
       "      <td>Monday</td>\n",
       "    </tr>\n",
       "    <tr>\n",
       "      <th>27130</th>\n",
       "      <td>2017-05-09</td>\n",
       "      <td>24</td>\n",
       "      <td>C.Miceli</td>\n",
       "      <td>1.0</td>\n",
       "      <td>1.0</td>\n",
       "      <td>9.0</td>\n",
       "      <td>5.0</td>\n",
       "      <td>2017.0</td>\n",
       "      <td>19.0</td>\n",
       "      <td>Tuesday</td>\n",
       "    </tr>\n",
       "    <tr>\n",
       "      <th>27131</th>\n",
       "      <td>2017-05-10</td>\n",
       "      <td>24</td>\n",
       "      <td>I.Prabucki</td>\n",
       "      <td>1.0</td>\n",
       "      <td>2.0</td>\n",
       "      <td>10.0</td>\n",
       "      <td>5.0</td>\n",
       "      <td>2017.0</td>\n",
       "      <td>19.0</td>\n",
       "      <td>Wednesday</td>\n",
       "    </tr>\n",
       "    <tr>\n",
       "      <th>27132</th>\n",
       "      <td>2017-04-27</td>\n",
       "      <td>27</td>\n",
       "      <td>C.Miceli</td>\n",
       "      <td>1.0</td>\n",
       "      <td>3.0</td>\n",
       "      <td>27.0</td>\n",
       "      <td>4.0</td>\n",
       "      <td>2017.0</td>\n",
       "      <td>17.0</td>\n",
       "      <td>Thursday</td>\n",
       "    </tr>\n",
       "    <tr>\n",
       "      <th>27133</th>\n",
       "      <td>2017-04-26</td>\n",
       "      <td>33</td>\n",
       "      <td>C.Carito</td>\n",
       "      <td>1.0</td>\n",
       "      <td>2.0</td>\n",
       "      <td>26.0</td>\n",
       "      <td>4.0</td>\n",
       "      <td>2017.0</td>\n",
       "      <td>17.0</td>\n",
       "      <td>Wednesday</td>\n",
       "    </tr>\n",
       "    <tr>\n",
       "      <th>27134</th>\n",
       "      <td>2017-04-27</td>\n",
       "      <td>33</td>\n",
       "      <td>C.Carito</td>\n",
       "      <td>1.0</td>\n",
       "      <td>3.0</td>\n",
       "      <td>27.0</td>\n",
       "      <td>4.0</td>\n",
       "      <td>2017.0</td>\n",
       "      <td>17.0</td>\n",
       "      <td>Thursday</td>\n",
       "    </tr>\n",
       "    <tr>\n",
       "      <th>27135</th>\n",
       "      <td>2017-05-03</td>\n",
       "      <td>33</td>\n",
       "      <td>C.Carito</td>\n",
       "      <td>1.0</td>\n",
       "      <td>2.0</td>\n",
       "      <td>3.0</td>\n",
       "      <td>5.0</td>\n",
       "      <td>2017.0</td>\n",
       "      <td>18.0</td>\n",
       "      <td>Wednesday</td>\n",
       "    </tr>\n",
       "    <tr>\n",
       "      <th>27136</th>\n",
       "      <td>2017-05-04</td>\n",
       "      <td>33</td>\n",
       "      <td>M.Faiyaz</td>\n",
       "      <td>1.0</td>\n",
       "      <td>3.0</td>\n",
       "      <td>4.0</td>\n",
       "      <td>5.0</td>\n",
       "      <td>2017.0</td>\n",
       "      <td>18.0</td>\n",
       "      <td>Thursday</td>\n",
       "    </tr>\n",
       "    <tr>\n",
       "      <th>27137</th>\n",
       "      <td>2017-05-05</td>\n",
       "      <td>33</td>\n",
       "      <td>C.Carito</td>\n",
       "      <td>1.0</td>\n",
       "      <td>4.0</td>\n",
       "      <td>5.0</td>\n",
       "      <td>5.0</td>\n",
       "      <td>2017.0</td>\n",
       "      <td>18.0</td>\n",
       "      <td>Friday</td>\n",
       "    </tr>\n",
       "    <tr>\n",
       "      <th>27138</th>\n",
       "      <td>2017-05-03</td>\n",
       "      <td>49</td>\n",
       "      <td>C.Sammut</td>\n",
       "      <td>1.0</td>\n",
       "      <td>2.0</td>\n",
       "      <td>3.0</td>\n",
       "      <td>5.0</td>\n",
       "      <td>2017.0</td>\n",
       "      <td>18.0</td>\n",
       "      <td>Wednesday</td>\n",
       "    </tr>\n",
       "  </tbody>\n",
       "</table>\n",
       "</div>"
      ],
      "text/plain": [
       "            Date  SpotId        name  Booked  t_weekday  t_day  t_month  \\\n",
       "27124 2017-04-25      60         NaN     0.0        NaN    NaN      NaN   \n",
       "27125 2017-04-25      61         NaN     0.0        NaN    NaN      NaN   \n",
       "27126 2017-04-25      62         NaN     0.0        NaN    NaN      NaN   \n",
       "27127 2017-04-28      24    C.Miceli     1.0        4.0   28.0      4.0   \n",
       "27128 2017-05-03      24    C.Miceli     1.0        2.0    3.0      5.0   \n",
       "27129 2017-05-08      24    C.Miceli     1.0        0.0    8.0      5.0   \n",
       "27130 2017-05-09      24    C.Miceli     1.0        1.0    9.0      5.0   \n",
       "27131 2017-05-10      24  I.Prabucki     1.0        2.0   10.0      5.0   \n",
       "27132 2017-04-27      27    C.Miceli     1.0        3.0   27.0      4.0   \n",
       "27133 2017-04-26      33    C.Carito     1.0        2.0   26.0      4.0   \n",
       "27134 2017-04-27      33    C.Carito     1.0        3.0   27.0      4.0   \n",
       "27135 2017-05-03      33    C.Carito     1.0        2.0    3.0      5.0   \n",
       "27136 2017-05-04      33    M.Faiyaz     1.0        3.0    4.0      5.0   \n",
       "27137 2017-05-05      33    C.Carito     1.0        4.0    5.0      5.0   \n",
       "27138 2017-05-03      49    C.Sammut     1.0        2.0    3.0      5.0   \n",
       "\n",
       "       t_year  t_weekofyear t_weekday_name  \n",
       "27124     NaN           NaN            NaN  \n",
       "27125     NaN           NaN            NaN  \n",
       "27126     NaN           NaN            NaN  \n",
       "27127  2017.0          17.0         Friday  \n",
       "27128  2017.0          18.0      Wednesday  \n",
       "27129  2017.0          19.0         Monday  \n",
       "27130  2017.0          19.0        Tuesday  \n",
       "27131  2017.0          19.0      Wednesday  \n",
       "27132  2017.0          17.0       Thursday  \n",
       "27133  2017.0          17.0      Wednesday  \n",
       "27134  2017.0          17.0       Thursday  \n",
       "27135  2017.0          18.0      Wednesday  \n",
       "27136  2017.0          18.0       Thursday  \n",
       "27137  2017.0          18.0         Friday  \n",
       "27138  2017.0          18.0      Wednesday  "
      ]
     },
     "execution_count": 31,
     "metadata": {},
     "output_type": "execute_result"
    }
   ],
   "source": [
    "# add features for these columns\n",
    "# abt['t_weekday'] = abt['Date'].dt.weekday\n",
    "# abt['t_day'] = abt['Date'].dt.day\n",
    "# abt['t_month'] = abt['Date'].dt.month\n",
    "# abt['t_year'] = abt['Date'].dt.year\n",
    "# abt['t_weekofyear'] = abt['Date'].dt.weekofyear\n",
    "# abt['t_weekday_name'] = abt['Date'].dt.weekday_name\n",
    "abt.tail(15)"
   ]
  }
 ],
 "metadata": {
  "kernelspec": {
   "display_name": "Python 2",
   "language": "python",
   "name": "python2"
  },
  "language_info": {
   "codemirror_mode": {
    "name": "ipython",
    "version": 2
   },
   "file_extension": ".py",
   "mimetype": "text/x-python",
   "name": "python",
   "nbconvert_exporter": "python",
   "pygments_lexer": "ipython2",
   "version": "2.7.13"
  }
 },
 "nbformat": 4,
 "nbformat_minor": 2
}

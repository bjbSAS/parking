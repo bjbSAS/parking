{
 "cells": [
  {
   "cell_type": "code",
   "execution_count": null,
   "metadata": {
    "collapsed": true
   },
   "outputs": [],
   "source": [
    "import os\n",
    "import pandas as pd\n",
    "import json"
   ]
  },
  {
   "cell_type": "code",
   "execution_count": null,
   "metadata": {
    "collapsed": false
   },
   "outputs": [],
   "source": [
    "# root = \"/home/cloud-user/notebooks/parking/\"\n",
    "# path = os.path.join(root, \"logs\")\n",
    "\n",
    "# filenames = []\n",
    "\n",
    "# for path, subdirs, files in os.walk(path):\n",
    "#     for name in files:\n",
    "#         print os.path.join(path, name)\n",
    "#         filenames.append(os.path.join(path, name))"
   ]
  },
  {
   "cell_type": "code",
   "execution_count": null,
   "metadata": {
    "collapsed": false
   },
   "outputs": [],
   "source": [
    "# df = pd.read_csv(\"logs/merged.csv\")\n",
    "# df.head()"
   ]
  },
  {
   "cell_type": "code",
   "execution_count": null,
   "metadata": {
    "collapsed": false
   },
   "outputs": [],
   "source": [
    "df = pd.read_csv(\"logs/merged-Apr102017.csv\")"
   ]
  },
  {
   "cell_type": "code",
   "execution_count": null,
   "metadata": {
    "collapsed": false
   },
   "outputs": [],
   "source": [
    "df['time'] = pd.to_datetime(df['time'], format='%Y-%m-%d %H:%M:%S:%f')\n",
    "df['time'].head()\n",
    "df['t_hour'] = df['time'].dt.hour\n",
    "df['t_minute'] = df['time'].dt.minute\n",
    "df['t_second'] = df['time'].dt.second\n",
    "# df['t_nanosecond'] = df['time'].dt.nanosecond\n",
    "df['t_day'] = df['time'].dt.weekday\n",
    "df['t_month'] = df['time'].dt.month\n",
    "df['t_year'] = df['time'].dt.year\n",
    "# df['t_weekday_name'] = df['time'].dt.weekday_name\n",
    "df.columns"
   ]
  },
  {
   "cell_type": "code",
   "execution_count": null,
   "metadata": {
    "collapsed": false
   },
   "outputs": [],
   "source": [
    "df['status'].value_counts()\n",
    "df.drop_duplicates(['id', 't_day','t_month','t_year','t_hour','t_minute', 't_second',\n",
    "                    'status'],keep='first',inplace=True)\n",
    "df.head()\n",
    "# len(df.index)"
   ]
  },
  {
   "cell_type": "code",
   "execution_count": null,
   "metadata": {
    "collapsed": false
   },
   "outputs": [],
   "source": [
    "from datetime import datetime\n",
    "import re\n",
    "jdf = pd.DataFrame()\n",
    "\n",
    "for payload in df['payload']:\n",
    "    try:\n",
    "        ndf = pd.DataFrame(json.loads(payload))\n",
    "        if 'posted_on' in ndf.columns:\n",
    "            ndf['date'] = pd.to_datetime(map(int, re.findall('\\d+', str(ndf['posted_on'])))[1],unit='ms')\n",
    "            jdf = jdf.append(ndf, ignore_index=True)\n",
    "        elif 'booked_on'in ndf.columns:\n",
    "            ndf['date'] = pd.to_datetime(map(int, re.findall('\\d+', str(ndf['booked_on'])))[1],unit='ms')\n",
    "            jdf = jdf.append(ndf, ignore_index=True)\n",
    "        else\n",
    "    except ValueError as e:\n",
    "        print(\"{0}, \\\"{1}\\\"\".format(str(e), payload))\n",
    "\n",
    "\n",
    "#     jdf.append(pd.DataFrame(record))\n",
    "#     jdf = jdf.append(json_normalize(record), ignore_index=True)\n",
    "    \n",
    "jdf.head()\n"
   ]
  },
  {
   "cell_type": "code",
   "execution_count": null,
   "metadata": {
    "collapsed": false
   },
   "outputs": [],
   "source": [
    "jdf.drop_duplicates(['id'],keep='first',inplace=True)\n",
    "len(jdf)"
   ]
  },
  {
   "cell_type": "code",
   "execution_count": null,
   "metadata": {
    "collapsed": false
   },
   "outputs": [],
   "source": [
    "# jdf.drop(['AM','PM','DAY','book_by'],inplace=True,axis=1)\n",
    "jdf"
   ]
  }
 ],
 "metadata": {
  "kernelspec": {
   "display_name": "Python 2",
   "language": "python",
   "name": "python2"
  },
  "language_info": {
   "codemirror_mode": {
    "name": "ipython",
    "version": 2
   },
   "file_extension": ".py",
   "mimetype": "text/x-python",
   "name": "python",
   "nbconvert_exporter": "python",
   "pygments_lexer": "ipython2",
   "version": "2.7.13"
  }
 },
 "nbformat": 4,
 "nbformat_minor": 2
}

{
 "cells": [
  {
   "cell_type": "code",
   "execution_count": null,
   "metadata": {
    "collapsed": false
   },
   "outputs": [],
   "source": [
    "import requests\n",
    "from requests_ntlm import HttpNtlmAuth\n",
    "import json\n",
    "import csv\n",
    "import netrc\n",
    "import pandas as pd\n",
    "import numpy as np"
   ]
  },
  {
   "cell_type": "code",
   "execution_count": null,
   "metadata": {
    "collapsed": false
   },
   "outputs": [],
   "source": [
    "# get user / password\n",
    "host = 'torvmpiis8'\n",
    "parking_url = 'http://torvmpiis8.na.sas.com/ParkingApp/BookingCalendar/GetBooking'\n",
    "# Read from the .netrc file in your home directory\n",
    "secrets = netrc.netrc()\n",
    "dusername, account, password = secrets.authenticators(host)\n",
    "#print (\"\\\"\" + dusername + \"\\\" \\\"\" + password + \"\\\"\")"
   ]
  },
  {
   "cell_type": "code",
   "execution_count": null,
   "metadata": {
    "collapsed": false
   },
   "outputs": [],
   "source": [
    "try:\n",
    "        bookings = requests.get(parking_url,auth=HttpNtlmAuth(dusername,password))\n",
    "        bookings.raise_for_status()\n",
    "except requests.exceptions.HTTPError as err:\n",
    "        print (\"failed to make server connection[parking URL]: \" + str(err))\n",
    "        sys.exit(1)"
   ]
  },
  {
   "cell_type": "code",
   "execution_count": null,
   "metadata": {
    "collapsed": false
   },
   "outputs": [],
   "source": [
    "# parse to json\n",
    "data = json.loads(bookings.text)\n",
    "spots = data[\"BList\"]"
   ]
  },
  {
   "cell_type": "markdown",
   "metadata": {},
   "source": [
    "### Run this one if we want to update the file"
   ]
  },
  {
   "cell_type": "code",
   "execution_count": null,
   "metadata": {
    "collapsed": true
   },
   "outputs": [],
   "source": [
    "## write to CSV\n",
    "with open('spots.csv', 'w') as csvfile:\n",
    "        fieldnames = ['pspot','name','date','bookOrPost','period','spot']\n",
    "        writer = csv.DictWriter(csvfile, fieldnames=fieldnames, lineterminator='\\n')\n",
    "        writer.writeheader()\n",
    "        for spot in spots:\n",
    "                spot['pspot'] = spot['spot'].split(' ')[0]\n",
    "                spot['name'] = spot['spot'].split(' ')[1]\n",
    "                spot['period'] = (spot['spot'].split('(')[1]).split(' ')[0]\n",
    "                writer.writerow(spot)"
   ]
  },
  {
   "cell_type": "code",
   "execution_count": null,
   "metadata": {
    "collapsed": false
   },
   "outputs": [],
   "source": [
    "## Create a lookup table of SpotIds to Names\n",
    "spot_range = pd.DataFrame(pd.Series(np.arange(1,64)), columns=['SpotId'])\n",
    "spot_names = pd.read_csv(\"spot_names.csv\", \" \")\n",
    "names['SpotId'] =  names['SpotId'].astype(int)\n",
    "spot_name_lookup = pd.merge(spot_range,spot_names, how='left', on='SpotId')\n",
    "spot_name_lookup"
   ]
  }
 ],
 "metadata": {
  "anaconda-cloud": {},
  "kernelspec": {
   "display_name": "Python 2",
   "language": "python",
   "name": "python2"
  },
  "language_info": {
   "codemirror_mode": {
    "name": "ipython",
    "version": 2
   },
   "file_extension": ".py",
   "mimetype": "text/x-python",
   "name": "python",
   "nbconvert_exporter": "python",
   "pygments_lexer": "ipython2",
   "version": "2.7.13"
  }
 },
 "nbformat": 4,
 "nbformat_minor": 1
}

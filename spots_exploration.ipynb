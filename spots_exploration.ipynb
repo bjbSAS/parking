{
 "cells": [
  {
   "cell_type": "code",
   "execution_count": null,
   "metadata": {
    "collapsed": true
   },
   "outputs": [],
   "source": [
    "import requests\n",
    "from requests_ntlm import HttpNtlmAuth\n",
    "import json\n",
    "import csv\n",
    "import sys\n",
    "import netrc\n",
    "from datetime import datetime"
   ]
  },
  {
   "cell_type": "markdown",
   "metadata": {},
   "source": [
    "## First go get all the booking records and dump it to CSV from json"
   ]
  },
  {
   "cell_type": "code",
   "execution_count": null,
   "metadata": {
    "collapsed": false
   },
   "outputs": [],
   "source": [
    "# get user / password\n",
    "host = '<hostname>'\n",
    "parking_url = '<hostname>/ParkingApp/BookingCalendar/GetBooking'\n",
    "# Read from the .netrc file in your home directory\n",
    "secrets = netrc.netrc()\n",
    "dusername, account, password = secrets.authenticators(host)\n",
    "#print (\"\\\"\" + dusername + \"\\\" \\\"\" + password + \"\\\"\")\n",
    "\n",
    "try:\n",
    "        bookings = requests.get(parking_url,auth=HttpNtlmAuth(dusername,password))\n",
    "        bookings.raise_for_status()\n",
    "except requests.exceptions.HTTPError as err:\n",
    "        print (\"failed to make server connection[parking URL]: \" + str(err))\n",
    "#         sys.exit(1)\n",
    "\n",
    "# parse to json and write to csv\n",
    "data = json.loads(bookings.text)\n",
    "spots = data[\"BList\"]\n",
    "\n",
    "with open('spots.csv', 'w') as csvfile:\n",
    "        fieldnames = ['pspot','name','date','bookOrPost','period','spot']\n",
    "        writer = csv.DictWriter(csvfile, fieldnames=fieldnames, lineterminator='\\n')\n",
    "        writer.writeheader()\n",
    "        for spot in spots:\n",
    "                spot['pspot'] = spot['spot'].split(' ')[0]\n",
    "                spot['name'] = spot['spot'].split(' ')[1]\n",
    "                spot['period'] = (spot['spot'].split('(')[1]).split(' ')[0]\n",
    "                writer.writerow(spot)"
   ]
  },
  {
   "cell_type": "code",
   "execution_count": null,
   "metadata": {
    "collapsed": false
   },
   "outputs": [],
   "source": [
    "import pandas as pd\n",
    "import numpy as np\n",
    "from matplotlib import pyplot as plt\n",
    "%matplotlib inline"
   ]
  },
  {
   "cell_type": "markdown",
   "metadata": {},
   "source": [
    "## Start our exploration"
   ]
  },
  {
   "cell_type": "code",
   "execution_count": null,
   "metadata": {
    "collapsed": false
   },
   "outputs": [],
   "source": [
    "## read in the file we just wrote\n",
    "df = pd.read_csv(\"spots.csv\")\n",
    "df.tail(3)"
   ]
  },
  {
   "cell_type": "code",
   "execution_count": null,
   "metadata": {
    "collapsed": false
   },
   "outputs": [],
   "source": [
    "# do this later\n",
    "\n",
    "## add some features\n",
    "\n",
    "df['datetime'] = pd.to_datetime(df['date'], format='%Y-%m-%d')\n",
    "df['t_weekday'] = df['datetime'].dt.weekday\n",
    "df['t_day'] = df['datetime'].dt.day\n",
    "df['t_month'] = df['datetime'].dt.month\n",
    "df['t_year'] = df['datetime'].dt.year\n",
    "df['t_weekofyear'] = df['datetime'].dt.weekofyear\n",
    "df['t_weekday_name'] = df['datetime'].dt.weekday_name\n",
    "df.drop(['period','spot','date'],axis=1,inplace=True)  ## this is redundant since we've already extracted pspot, name.\n",
    "# df.head(3)"
   ]
  },
  {
   "cell_type": "code",
   "execution_count": null,
   "metadata": {
    "collapsed": false
   },
   "outputs": [],
   "source": [
    "## write it out in case we want to reuse it later.\n",
    "df.to_csv(\"spots_augmented.csv\")"
   ]
  },
  {
   "cell_type": "markdown",
   "metadata": {},
   "source": [
    "### Build a structure that we can plot later comparing first 6 months to last 6 months"
   ]
  },
  {
   "cell_type": "code",
   "execution_count": null,
   "metadata": {
    "collapsed": false
   },
   "outputs": [],
   "source": [
    "compare = pd.DataFrame.from_items([('beneficiaries', [0, 0,0,0]), ('spots_booked', [0, 0,0,0])], \n",
    "                        orient='index', columns=['First6', 'Last6','First3', 'Last3'])"
   ]
  },
  {
   "cell_type": "code",
   "execution_count": null,
   "metadata": {
    "collapsed": false,
    "scrolled": true
   },
   "outputs": [],
   "source": [
    "## plot all time bookings per user\n",
    "tbl_forplot  = pd.Series(df['name'].value_counts())\n",
    "freq= tbl_forplot.plot(kind  = 'bar', title = 'Number of bookings per user (all time)', color = 'c', figsize = (16, 6))\n",
    "freq.set_ylabel('# bookings')\n",
    "freq.set_xlabel('User Name');"
   ]
  },
  {
   "cell_type": "code",
   "execution_count": null,
   "metadata": {
    "collapsed": false
   },
   "outputs": [],
   "source": [
    "## compare first 6 months. Nice distribution of users booking parking spots\n",
    "tbl_forplot  = pd.Series(df[(df['datetime'] > '2015-8-24') & (df['datetime'] <= '2016-2-24')]['name'].value_counts())\n",
    "freq= tbl_forplot.plot(kind  = 'bar', title = 'Number of bookings per user (First 6 months)', color = 'c', figsize = (16, 6))\n",
    "freq.set_ylabel('# bookings')\n",
    "freq.set_xlabel('User');\n",
    "## compare for later\n",
    "compare['First6']['beneficiaries'] = tbl_forplot.count()\n",
    "compare['First6']['spots_booked'] = tbl_forplot.sum()"
   ]
  },
  {
   "cell_type": "code",
   "execution_count": null,
   "metadata": {
    "collapsed": false
   },
   "outputs": [],
   "source": [
    "## most recent 6 months\n",
    "tbl_forplot  = pd.Series(df[(df['datetime'] > '2017-2-19') & (df['datetime'] <= '2017-8-18')]['name'].value_counts())\n",
    "freq = tbl_forplot.plot(kind  = 'bar', title = 'Number of bookings per user (Recent 6 months)', color = 'c', figsize = (16, 6))\n",
    "freq.set_ylabel('# bookings')\n",
    "freq.set_xlabel('User');\n",
    "## compare for later\n",
    "## compare for later\n",
    "compare['Last6']['beneficiaries'] = tbl_forplot.count()\n",
    "compare['Last6']['spots_booked'] = tbl_forplot.sum()"
   ]
  },
  {
   "cell_type": "code",
   "execution_count": null,
   "metadata": {
    "collapsed": false,
    "scrolled": true
   },
   "outputs": [],
   "source": [
    "## compare first 3 months. Nice distribution of users booking parking spots\n",
    "tbl_forplot  = pd.Series(df[(df['datetime'] > '2015-8-24') & (df['datetime'] <= '2015-11-24')]['name'].value_counts())\n",
    "freq= tbl_forplot.plot(kind  = 'bar', title = 'Number of bookings per user (First 3 months)', color = 'c', figsize = (16, 6))\n",
    "freq.set_ylabel('# bookings')\n",
    "freq.set_xlabel('User');\n",
    "## compare for later\n",
    "compare['First3']['beneficiaries'] = tbl_forplot.count()\n",
    "compare['First3']['spots_booked'] = tbl_forplot.sum()"
   ]
  },
  {
   "cell_type": "code",
   "execution_count": null,
   "metadata": {
    "collapsed": false
   },
   "outputs": [],
   "source": [
    "## most recent 3 months\n",
    "tbl_forplot  = pd.Series(df[(df['datetime'] > '2017-5-19') & (df['datetime'] <= '2017-8-18')]['name'].value_counts())\n",
    "freq = tbl_forplot.plot(kind  = 'bar', title = 'Number of bookings per user (Recent 3 months)', color = 'c', figsize = (16, 6))\n",
    "freq.set_ylabel('# bookings')\n",
    "freq.set_xlabel('User');\n",
    "## compare for later\n",
    "## compare for later\n",
    "compare['Last3']['beneficiaries'] = tbl_forplot.count()\n",
    "compare['Last3']['spots_booked'] = tbl_forplot.sum()"
   ]
  },
  {
   "cell_type": "code",
   "execution_count": null,
   "metadata": {
    "collapsed": false
   },
   "outputs": [],
   "source": [
    "## histogram\n",
    "tbl_forplot  = pd.Series(df['name'].value_counts())\n",
    "freq= tbl_forplot.plot.hist(title = 'Y number of users with X bookings', bins=50, color = 'c', figsize = (16, 6))\n",
    "freq.set_ylabel('# Users')\n",
    "freq.set_xlabel('Individual user\\'s booking counts');\n",
    "freq.axvline(tbl_forplot.mean(), color='b', linestyle='dashed', linewidth=2)\n",
    "# mean plus 1 std_Dev\n",
    "freq.axvline(tbl_forplot.mean()+tbl_forplot.std(), color='g', linestyle='dashed', linewidth=2) \n",
    "# mean plus 3.8 std_Dev\n",
    "freq.axvline(tbl_forplot.mean()+(tbl_forplot.std()*4), color='r', linestyle='dashed', linewidth=2)   "
   ]
  },
  {
   "cell_type": "markdown",
   "metadata": {},
   "source": [
    "## Users with very high booking counts"
   ]
  },
  {
   "cell_type": "code",
   "execution_count": null,
   "metadata": {
    "collapsed": false,
    "scrolled": true
   },
   "outputs": [],
   "source": [
    "users = df[(df['name'] == '#name here')].sort_values(by='datetime')\n",
    "users.head(3)"
   ]
  },
  {
   "cell_type": "code",
   "execution_count": null,
   "metadata": {
    "collapsed": false
   },
   "outputs": [],
   "source": [
    "users = df[(df['name'] == '#name here')].sort_values(by='datetime')\n",
    "users.head(3)"
   ]
  },
  {
   "cell_type": "code",
   "execution_count": null,
   "metadata": {
    "collapsed": false,
    "scrolled": false
   },
   "outputs": [],
   "source": [
    "## how does the total number of bookings look over time?\n",
    "tbl_forplot  = pd.Series(df.groupby(['t_year','t_month']).size())\n",
    "rolling_avg = tbl_forplot.rolling(win_type='boxcar',center=False,window=3,axis=0).mean()\n",
    "plt.figure()\n",
    "tbl_forplot_plot = tbl_forplot.plot(kind  = 'bar', \n",
    "                                    title = 'Number of bookings by month since inception', \n",
    "                                    color = 'c', rot=0,figsize = (16, 6))\n",
    "tbl_forplot_plot.set_ylabel('# bookings')\n",
    "tbl_forplot_plot.set_xlabel('Month');\n",
    "rolling_avg_plot = rolling_avg.plot(rot=0)\n"
   ]
  },
  {
   "cell_type": "markdown",
   "metadata": {},
   "source": [
    "## Try a Forcast on the above data"
   ]
  },
  {
   "cell_type": "code",
   "execution_count": null,
   "metadata": {
    "collapsed": true
   },
   "outputs": [],
   "source": [
    "# todo"
   ]
  },
  {
   "cell_type": "markdown",
   "metadata": {},
   "source": [
    "## Join spot IDs with names"
   ]
  },
  {
   "cell_type": "code",
   "execution_count": null,
   "metadata": {
    "collapsed": false
   },
   "outputs": [],
   "source": [
    "## Create a lookup table of SpotIds to Names\n",
    "spot_range = pd.DataFrame(pd.Series(np.arange(1,64)), columns=['SpotId'])\n",
    "spot_names = pd.read_csv(\"spot_names.csv\", \" \")\n",
    "# spot_names\n",
    "# spot_range\n",
    "spot_names['SpotId'] =  spot_names['SpotId'].astype(int)\n",
    "spot_name_lookup = pd.merge(spot_range,spot_names, how='left', on='SpotId')\n",
    "spot_name_lookup.head(6)"
   ]
  },
  {
   "cell_type": "markdown",
   "metadata": {},
   "source": [
    "### Which Users have posted the most spots over time?"
   ]
  },
  {
   "cell_type": "code",
   "execution_count": null,
   "metadata": {
    "collapsed": false
   },
   "outputs": [],
   "source": [
    "## last 6 months\n",
    "top10s = df[(df['datetime'] > '2017-2-19') & (df['datetime'] <= '2017-8-18')]['pspot'].value_counts().head(10)\n",
    "top10d = pd.DataFrame(top10s).reset_index()\n",
    "top10d.columns = ['SpotId','Counts']\n",
    "top10_table = pd.merge(top10d,spot_name_lookup, how='left', on='SpotId')\n",
    "top10_table.head()"
   ]
  },
  {
   "cell_type": "code",
   "execution_count": null,
   "metadata": {
    "collapsed": false
   },
   "outputs": [],
   "source": [
    "## all time - where did spot owner #5 go?\n",
    "top10s = df['pspot'].value_counts().head(10)\n",
    "top10d = pd.DataFrame(top10s).reset_index()\n",
    "top10d.columns = ['SpotId','Counts']\n",
    "top10_table = pd.merge(top10d,spot_name_lookup, how='left', on='SpotId')\n",
    "top10_table.head()"
   ]
  },
  {
   "cell_type": "markdown",
   "metadata": {},
   "source": [
    "### Let's compare the First 6 months of operation to the last 6 months"
   ]
  },
  {
   "cell_type": "code",
   "execution_count": null,
   "metadata": {
    "collapsed": false,
    "scrolled": true
   },
   "outputs": [],
   "source": [
    "type(compare)\n",
    "compare_t = compare.rename(index=str,columns={'First6':'First 6 Months','Last6':'Last 6 Months',\n",
    "                                              'First3':'First 3 Months','Last3':'Last 3 Months'}).transpose()\n",
    "compare_t"
   ]
  },
  {
   "cell_type": "code",
   "execution_count": null,
   "metadata": {
    "collapsed": false
   },
   "outputs": [],
   "source": [
    "fig, axes = plt.subplots(nrows=1, ncols=4,figsize = (16, 4))\n",
    "\n",
    "plot_benefactors = compare_t['beneficiaries'][0:2].plot(ax=axes[0], kind='bar', color='c' )\n",
    "plot_benefactors.set_title('# of individual beneficiares')\n",
    "plot_benefactors.set_ylabel('# of individual beneficiares')\n",
    "\n",
    "plot_spots = compare_t['spots_booked'][0:2].plot(ax=axes[1], kind='bar', color='c')\n",
    "plot_spots.set_title('# Spots Booked in first 6 mths vs Last 6 mths')\n",
    "plot_spots.set_ylabel('Total # of spots booked')\n",
    "\n",
    "# compare_t['beneficiaries']['change'] = compare_t['beneficiaries'].pct_change()\n",
    "# compare_t['spots_booked']['change'] = compare_t['spots_booked'].pct_change()\n",
    "\n",
    "plot_benefactors = compare_t['beneficiaries'][2:5].plot(ax=axes[2], kind='bar', color='c' )\n",
    "plot_benefactors.set_title('# of individual beneficiares')\n",
    "plot_benefactors.set_ylabel('# of individual beneficiares')\n",
    "\n",
    "plot_spots = compare_t['spots_booked'][2:5].plot(ax=axes[3], kind='bar', color='c')\n",
    "plot_spots.set_title('# Spots Booked in first 3 mths vs Last 3 mths')\n",
    "plot_spots.set_ylabel('Total # of spots booked')\n"
   ]
  },
  {
   "cell_type": "code",
   "execution_count": null,
   "metadata": {
    "collapsed": false
   },
   "outputs": [],
   "source": [
    "# Only the \"Last X Months\" row is valid for pct_change()\n",
    "compare_t['pct_change_ben'] = compare_t['beneficiaries'].pct_change()\n",
    "compare_t['pct_change_spot_booked'] = compare_t['spots_booked'].pct_change()\n",
    "compare_t"
   ]
  },
  {
   "cell_type": "markdown",
   "metadata": {},
   "source": [
    "### Let's expand the data set to include spots that weren't booked/posted. "
   ]
  },
  {
   "cell_type": "code",
   "execution_count": null,
   "metadata": {
    "collapsed": false
   },
   "outputs": [],
   "source": [
    "start_dt = datetime(2015, 8, 24)\n",
    "end_dt = pd.to_datetime(datetime(2017,7,2))\n",
    "rng_df = pd.DataFrame(pd.bdate_range(start_dt, end_dt), columns=['Date'])  # date range set\n",
    "spot_range = pd.DataFrame(pd.Series(np.arange(1,63)), columns=['SpotId']) # 62 items in the spot range set\n",
    "date_and_spot = pd.merge(rng_df.assign(key=0), spot_range.assign(key=0), on='key').drop('key', axis=1) # cartesian product\n",
    "date_and_spot.tail(3)"
   ]
  },
  {
   "cell_type": "markdown",
   "metadata": {},
   "source": [
    "### Join it to the above detailed table"
   ]
  },
  {
   "cell_type": "code",
   "execution_count": null,
   "metadata": {
    "collapsed": false
   },
   "outputs": [],
   "source": [
    "df = df.rename(index=str, columns={'pspot': 'SpotId', 'datetime':'Date'})\n",
    "df.head(2)"
   ]
  },
  {
   "cell_type": "code",
   "execution_count": null,
   "metadata": {
    "collapsed": false
   },
   "outputs": [],
   "source": [
    "abt = pd.merge(date_and_spot, df, how='outer',on=['Date','SpotId'])\n",
    "abt = abt.rename(index=str,columns={'bookOrPost': 'Booked'})\n",
    "abt['Booked'] = abt['Booked'].replace(to_replace='B', value=int(1))\n",
    "abt['Booked'] = abt['Booked'].replace(to_replace=np.NaN, value=int(0))\n",
    "abt.tail(3)"
   ]
  },
  {
   "cell_type": "code",
   "execution_count": null,
   "metadata": {
    "collapsed": false,
    "scrolled": false
   },
   "outputs": [],
   "source": [
    "# add features for these columns\n",
    "# abt['t_weekday'] = abt['Date'].dt.weekday\n",
    "# abt['t_day'] = abt['Date'].dt.day\n",
    "# abt['t_month'] = abt['Date'].dt.month\n",
    "# abt['t_year'] = abt['Date'].dt.year\n",
    "# abt['t_weekofyear'] = abt['Date'].dt.weekofyear\n",
    "# abt['t_weekday_name'] = abt['Date'].dt.weekday_name\n",
    "\n",
    "#abt.tail(15)"
   ]
  },
  {
   "cell_type": "markdown",
   "metadata": {},
   "source": [
    "## Here are the SpotId's that have *never* posted their spots\n",
    "#### We don't know who these people are because they don't have any record of their name in the system."
   ]
  },
  {
   "cell_type": "code",
   "execution_count": null,
   "metadata": {
    "collapsed": false
   },
   "outputs": [],
   "source": [
    "abt_by_spot = abt.groupby('SpotId').sum()\n",
    "#abt_by_spot[abt_by_spot['Booked'] == 0].info()\n",
    "abt_by_spot"
   ]
  },
  {
   "cell_type": "code",
   "execution_count": null,
   "metadata": {
    "collapsed": false
   },
   "outputs": [],
   "source": [
    "abt_histo = abt_by_spot['Booked'].hist(grid=False, bins=100, figsize=(16,6))\n",
    "abt_histo.set_title('Some users post their spot a lot, most not at all!')\n",
    "abt_histo.set_xlabel('Count of number of times a spot is posted')\n",
    "abt_histo.set_ylabel('Frequency')"
   ]
  }
 ],
 "metadata": {
  "kernelspec": {
   "display_name": "Python 2",
   "language": "python",
   "name": "python2"
  },
  "language_info": {
   "codemirror_mode": {
    "name": "ipython",
    "version": 2
   },
   "file_extension": ".py",
   "mimetype": "text/x-python",
   "name": "python",
   "nbconvert_exporter": "python",
   "pygments_lexer": "ipython2",
   "version": "2.7.13"
  }
 },
 "nbformat": 4,
 "nbformat_minor": 2
}

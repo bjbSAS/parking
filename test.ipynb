{
 "cells": [
  {
   "cell_type": "code",
   "execution_count": null,
   "metadata": {
    "collapsed": false
   },
   "outputs": [],
   "source": [
    "from datetime import datetime\n",
    "import numpy as np\n",
    "import pandas as pd"
   ]
  },
  {
   "cell_type": "markdown",
   "metadata": {},
   "source": [
    "### Build our date range"
   ]
  },
  {
   "cell_type": "code",
   "execution_count": null,
   "metadata": {
    "collapsed": false
   },
   "outputs": [],
   "source": [
    "start_dt = datetime(2015, 8, 24)\n",
    "end_dt = pd.to_datetime(datetime(2017,4,25))\n",
    "rng_df = pd.DataFrame(pd.bdate_range(start_dt, end_dt), columns=['Date'])\n",
    "# print(\"Number of days: {}\".format(rng_df.count()))\n",
    "rng_df.head()"
   ]
  },
  {
   "cell_type": "code",
   "execution_count": null,
   "metadata": {
    "collapsed": false
   },
   "outputs": [],
   "source": [
    "spot_range = pd.DataFrame(pd.Series(np.arange(1,63)), columns=['SpotId']) # 62 items\n",
    "spot_range.head()"
   ]
  },
  {
   "cell_type": "code",
   "execution_count": null,
   "metadata": {
    "collapsed": false
   },
   "outputs": [],
   "source": [
    "date_and_spot = pd.merge(rng_df.assign(key=0), spot_range.assign(key=0), on='key').drop('key', axis=1)\n",
    "date_and_spot.tail()"
   ]
  },
  {
   "cell_type": "code",
   "execution_count": null,
   "metadata": {
    "collapsed": false
   },
   "outputs": [],
   "source": [
    "# date_and_spot = date_and_spot.set_index(['SpotId','Date'])\n",
    "# date_and_spot.tail()"
   ]
  },
  {
   "cell_type": "code",
   "execution_count": null,
   "metadata": {
    "collapsed": false
   },
   "outputs": [],
   "source": [
    "import csv\n",
    "df = pd.read_csv(\"spots.csv\")\n",
    "df['datetime'] = pd.to_datetime(df['date'], format='%Y-%m-%d')\n",
    "df = df.rename(index=str, columns={'pspot': 'SpotId', 'datetime':'Date'})\n",
    "df = df.drop('date', axis=1)\n",
    "df.tail(3)"
   ]
  },
  {
   "cell_type": "code",
   "execution_count": null,
   "metadata": {
    "collapsed": false
   },
   "outputs": [],
   "source": [
    "join_df = pd.merge(date_and_spot, df, how='outer',on=['Date','SpotId'])\n",
    "join_df.tail(15)"
   ]
  }
 ],
 "metadata": {
  "kernelspec": {
   "display_name": "Python 2",
   "language": "python",
   "name": "python2"
  },
  "language_info": {
   "codemirror_mode": {
    "name": "ipython",
    "version": 2
   },
   "file_extension": ".py",
   "mimetype": "text/x-python",
   "name": "python",
   "nbconvert_exporter": "python",
   "pygments_lexer": "ipython2",
   "version": "2.7.13"
  }
 },
 "nbformat": 4,
 "nbformat_minor": 2
}
